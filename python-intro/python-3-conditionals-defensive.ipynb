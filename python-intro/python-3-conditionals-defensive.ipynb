{
 "metadata": {
  "name": ""
 },
 "nbformat": 3,
 "nbformat_minor": 0,
 "worksheets": [
  {
   "cells": [
    {
     "cell_type": "heading",
     "level": 1,
     "metadata": {},
     "source": [
      "Basic Programming Using Python: Making Decisions and Programming Defensively"
     ]
    },
    {
     "cell_type": "markdown",
     "metadata": {},
     "source": [
      "##Learning Goals\n",
      "- Use Boolean values and operations, and `if` statements to control the flow of operations.\n",
      "- Explain the concept of defensive programming and how to use `assert` statements and `try/except` blocks to make Python code more robust.\n",
      "- Add `docstrings` to functions to provide online documentation."
     ]
    },
    {
     "cell_type": "markdown",
     "metadata": {},
     "source": [
      "The `ipythonblocks` module used in this notebook is from \n",
      "[jiffyclub/ipythonblocks](https://github.com/jiffyclub/ipythonblocks) code repository,\n",
      "courtesty of Matt Davis.\n",
      "The `colors` module used in this notebook is from the \n",
      "[synesthesiam/novice](https://github.com/synesthesiam/novice) code repository,\n",
      "courtesy of Michael Hanson."
     ]
    },
    {
     "cell_type": "heading",
     "level": 2,
     "metadata": {},
     "source": [
      "Changing Colors"
     ]
    },
    {
     "cell_type": "markdown",
     "metadata": {},
     "source": [
      "First let's import the libraries that we're going to use.\n",
      "By convention,\n",
      "`import` statements are grouped together at the top of Python scripts:"
     ]
    },
    {
     "cell_type": "code",
     "collapsed": false,
     "input": [
      "import colors\n",
      "from ipythonblocks import ImageGrid"
     ],
     "language": "python",
     "metadata": {},
     "outputs": [],
     "prompt_number": 5
    },
    {
     "cell_type": "markdown",
     "metadata": {},
     "source": [
      "Let's create another grid and color a few cells:"
     ]
    },
    {
     "cell_type": "code",
     "collapsed": false,
     "input": [
      "row = ImageGrid(6, 1)\n",
      "row[1, 0] = colors.ORCHID\n",
      "row[5, 0] = colors.ORCHID\n",
      "row.show()"
     ],
     "language": "python",
     "metadata": {},
     "outputs": [
      {
       "html": [
        "<style type=\"text/css\">table.blockgrid {border: none;} .blockgrid tr {border: none;} .blockgrid td {padding: 0px;} #blocks4c5bfb90-d67b-4f81-bff1-de47624de83b td {border: 1px solid white;}</style><table id=\"blocks4c5bfb90-d67b-4f81-bff1-de47624de83b\" class=\"blockgrid\"><tbody><tr><td title=\"Index: [0, 0]&#10;Color: (0, 0, 0)\" style=\"width: 20px; height: 20px;background-color: rgb(0, 0, 0);\"></td><td title=\"Index: [1, 0]&#10;Color: (218, 112, 214)\" style=\"width: 20px; height: 20px;background-color: rgb(218, 112, 214);\"></td><td title=\"Index: [2, 0]&#10;Color: (0, 0, 0)\" style=\"width: 20px; height: 20px;background-color: rgb(0, 0, 0);\"></td><td title=\"Index: [3, 0]&#10;Color: (0, 0, 0)\" style=\"width: 20px; height: 20px;background-color: rgb(0, 0, 0);\"></td><td title=\"Index: [4, 0]&#10;Color: (0, 0, 0)\" style=\"width: 20px; height: 20px;background-color: rgb(0, 0, 0);\"></td><td title=\"Index: [5, 0]&#10;Color: (218, 112, 214)\" style=\"width: 20px; height: 20px;background-color: rgb(218, 112, 214);\"></td></tr></tbody></table>"
       ],
       "metadata": {},
       "output_type": "display_data",
       "text": [
        "<IPython.core.display.HTML at 0x10043d190>"
       ]
      }
     ],
     "prompt_number": 4
    },
    {
     "cell_type": "markdown",
     "metadata": {},
     "source": [
      "Suppose we want to invert these colors,\n",
      "i.e.,\n",
      "turn every black cell orchid,\n",
      "and every orchid cell black.\n",
      "We could do this directly,\n",
      "but if we want to do the operation frequently,\n",
      "on many different images,\n",
      "we ought to write a function,\n",
      "and that function ought to work equally well on this grid:"
     ]
    },
    {
     "cell_type": "code",
     "collapsed": false,
     "input": [
      "another_row = ImageGrid(8, 1)\n",
      "another_row[0, 0] = colors.ORCHID\n",
      "another_row[1, 0] = colors.ORCHID\n",
      "another_row[3, 0] = colors.ORCHID\n",
      "another_row.show()"
     ],
     "language": "python",
     "metadata": {},
     "outputs": [
      {
       "html": [
        "<style type=\"text/css\">table.blockgrid {border: none;} .blockgrid tr {border: none;} .blockgrid td {padding: 0px;} #blocks10034fd4-6c78-48f3-a7cb-bfa74092127f td {border: 1px solid white;}</style><table id=\"blocks10034fd4-6c78-48f3-a7cb-bfa74092127f\" class=\"blockgrid\"><tbody><tr><td title=\"Index: [0, 0]&#10;Color: (218, 112, 214)\" style=\"width: 20px; height: 20px;background-color: rgb(218, 112, 214);\"></td><td title=\"Index: [1, 0]&#10;Color: (218, 112, 214)\" style=\"width: 20px; height: 20px;background-color: rgb(218, 112, 214);\"></td><td title=\"Index: [2, 0]&#10;Color: (0, 0, 0)\" style=\"width: 20px; height: 20px;background-color: rgb(0, 0, 0);\"></td><td title=\"Index: [3, 0]&#10;Color: (218, 112, 214)\" style=\"width: 20px; height: 20px;background-color: rgb(218, 112, 214);\"></td><td title=\"Index: [4, 0]&#10;Color: (0, 0, 0)\" style=\"width: 20px; height: 20px;background-color: rgb(0, 0, 0);\"></td><td title=\"Index: [5, 0]&#10;Color: (0, 0, 0)\" style=\"width: 20px; height: 20px;background-color: rgb(0, 0, 0);\"></td><td title=\"Index: [6, 0]&#10;Color: (0, 0, 0)\" style=\"width: 20px; height: 20px;background-color: rgb(0, 0, 0);\"></td><td title=\"Index: [7, 0]&#10;Color: (0, 0, 0)\" style=\"width: 20px; height: 20px;background-color: rgb(0, 0, 0);\"></td></tr></tbody></table>"
       ],
       "metadata": {},
       "output_type": "display_data",
       "text": [
        "<IPython.core.display.HTML at 0x102e3f910>"
       ]
      }
     ],
     "prompt_number": 6
    },
    {
     "cell_type": "markdown",
     "metadata": {},
     "source": [
      "What we really want is a way for the computer to make decisions based on the data it is processing.\n",
      "The tool that does that is the *conditional statement*,\n",
      "often called an \"if statement\" because of how it's written:"
     ]
    },
    {
     "cell_type": "code",
     "collapsed": false,
     "input": [
      "if 5 > 0:\n",
      "    print '5 is greater than 0'\n",
      "if 5 < 0:\n",
      "    print '5 should not be less than 0'"
     ],
     "language": "python",
     "metadata": {},
     "outputs": [
      {
       "output_type": "stream",
       "stream": "stdout",
       "text": [
        "5 is greater than 0\n"
       ]
      }
     ],
     "prompt_number": 7
    },
    {
     "cell_type": "markdown",
     "metadata": {},
     "source": [
      "A conditional statement starts with the word `if`,\n",
      "followed by an expression that can be either true or false.\n",
      "If the expression is true,\n",
      "Python executes the block of code underneath the `if`;\n",
      "if it's false,\n",
      "Python skips that block:"
     ]
    },
    {
     "cell_type": "markdown",
     "metadata": {},
     "source": [
      "We often want to do one thing when a condition is true,\n",
      "and another thing when the condition is false,\n",
      "so Python allows us to attach an `else` to an `if` like this:"
     ]
    },
    {
     "cell_type": "code",
     "collapsed": false,
     "input": [
      "if 'abc' > 'xyz':\n",
      "    print 'oops: \"abc\" should be less than \"xyz\"'\n",
      "else:\n",
      "    print 'correct: \"abc\" is less than \"xyz\"'"
     ],
     "language": "python",
     "metadata": {},
     "outputs": [
      {
       "output_type": "stream",
       "stream": "stdout",
       "text": [
        "correct: \"abc\" is less than \"xyz\"\n"
       ]
      }
     ],
     "prompt_number": 8
    },
    {
     "cell_type": "markdown",
     "metadata": {},
     "source": [
      "We can use another keyword,\n",
      "`elif`,\n",
      "to insert additional tests after the `if`.\n",
      "Python checks each one in order,\n",
      "and executes the code block belonging to the first one that's true.\n",
      "If none of them are,\n",
      "it executes the `else`,\n",
      "or does nothing at all if an `else` hasn't been provided:"
     ]
    },
    {
     "cell_type": "code",
     "collapsed": false,
     "input": [
      "for number in range(-2, 3): # produces -2, -1, 0, 1, 2\n",
      "    if number < 0:\n",
      "        print number, 'is negative'\n",
      "    elif number == 0:\n",
      "        print number, 'is zero'\n",
      "    else:\n",
      "        print number, 'must be positive'"
     ],
     "language": "python",
     "metadata": {},
     "outputs": [
      {
       "output_type": "stream",
       "stream": "stdout",
       "text": [
        "-2 is negative\n",
        "-1 is negative\n",
        "0 is zero\n",
        "1 must be positive\n",
        "2 must be positive\n"
       ]
      }
     ],
     "prompt_number": 9
    },
    {
     "cell_type": "markdown",
     "metadata": {},
     "source": [
      "We now have everything we need to invert the colors in a color grid:"
     ]
    },
    {
     "cell_type": "code",
     "collapsed": false,
     "input": [
      "def invert(grid):\n",
      "    for x in range(grid.width):\n",
      "        if grid[x, 0] == colors.ORCHID:\n",
      "            grid[x, 0] = colors.BLACK\n",
      "        else: # must be black\n",
      "            grid[x, 0] = colors.ORCHID"
     ],
     "language": "python",
     "metadata": {},
     "outputs": [],
     "prompt_number": 10
    },
    {
     "cell_type": "markdown",
     "metadata": {},
     "source": [
      "As discussed in the previous lessons,\n",
      "`grid.width` is the width of the grid,\n",
      "so `range(grid.width)` is the sequence of numbers 0, 1, 2, &hellip;, `grid.width`-1,\n",
      "i.e.,\n",
      "the legal X indices for the grid.\n",
      "Inside that loop,\n",
      "we check `grid[x, 0]`'s color.\n",
      "If it's orchid,\n",
      "we turn it black;\n",
      "if it's not orchid,\n",
      "we assume that it's black\n",
      "and make it orchid.\n",
      "To test it,\n",
      "let's look at our original row:"
     ]
    },
    {
     "cell_type": "code",
     "collapsed": false,
     "input": [
      "row.show()"
     ],
     "language": "python",
     "metadata": {},
     "outputs": [
      {
       "html": [
        "<style type=\"text/css\">table.blockgrid {border: none;} .blockgrid tr {border: none;} .blockgrid td {padding: 0px;} #blocksc0ece431-44c7-426e-aefc-475a905637a2 td {border: 1px solid white;}</style><table id=\"blocksc0ece431-44c7-426e-aefc-475a905637a2\" class=\"blockgrid\"><tbody><tr><td title=\"Index: [0, 0]&#10;Color: (0, 0, 0)\" style=\"width: 20px; height: 20px;background-color: rgb(0, 0, 0);\"></td><td title=\"Index: [1, 0]&#10;Color: (218, 112, 214)\" style=\"width: 20px; height: 20px;background-color: rgb(218, 112, 214);\"></td><td title=\"Index: [2, 0]&#10;Color: (0, 0, 0)\" style=\"width: 20px; height: 20px;background-color: rgb(0, 0, 0);\"></td><td title=\"Index: [3, 0]&#10;Color: (0, 0, 0)\" style=\"width: 20px; height: 20px;background-color: rgb(0, 0, 0);\"></td><td title=\"Index: [4, 0]&#10;Color: (0, 0, 0)\" style=\"width: 20px; height: 20px;background-color: rgb(0, 0, 0);\"></td><td title=\"Index: [5, 0]&#10;Color: (218, 112, 214)\" style=\"width: 20px; height: 20px;background-color: rgb(218, 112, 214);\"></td></tr></tbody></table>"
       ],
       "metadata": {},
       "output_type": "display_data",
       "text": [
        "<IPython.core.display.HTML at 0x102e15d10>"
       ]
      }
     ],
     "prompt_number": 11
    },
    {
     "cell_type": "markdown",
     "metadata": {},
     "source": [
      "and then look at it again after inverting it:"
     ]
    },
    {
     "cell_type": "code",
     "collapsed": false,
     "input": [
      "invert(row)\n",
      "row.show()"
     ],
     "language": "python",
     "metadata": {},
     "outputs": [
      {
       "html": [
        "<style type=\"text/css\">table.blockgrid {border: none;} .blockgrid tr {border: none;} .blockgrid td {padding: 0px;} #blocksdd9dfafa-5bd2-4b31-8581-d951d309cc02 td {border: 1px solid white;}</style><table id=\"blocksdd9dfafa-5bd2-4b31-8581-d951d309cc02\" class=\"blockgrid\"><tbody><tr><td title=\"Index: [0, 0]&#10;Color: (218, 112, 214)\" style=\"width: 20px; height: 20px;background-color: rgb(218, 112, 214);\"></td><td title=\"Index: [1, 0]&#10;Color: (218, 112, 214)\" style=\"width: 20px; height: 20px;background-color: rgb(218, 112, 214);\"></td><td title=\"Index: [2, 0]&#10;Color: (218, 112, 214)\" style=\"width: 20px; height: 20px;background-color: rgb(218, 112, 214);\"></td><td title=\"Index: [3, 0]&#10;Color: (218, 112, 214)\" style=\"width: 20px; height: 20px;background-color: rgb(218, 112, 214);\"></td><td title=\"Index: [4, 0]&#10;Color: (218, 112, 214)\" style=\"width: 20px; height: 20px;background-color: rgb(218, 112, 214);\"></td><td title=\"Index: [5, 0]&#10;Color: (218, 112, 214)\" style=\"width: 20px; height: 20px;background-color: rgb(218, 112, 214);\"></td></tr></tbody></table>"
       ],
       "metadata": {},
       "output_type": "display_data",
       "text": [
        "<IPython.core.display.HTML at 0x102e15e90>"
       ]
      }
     ],
     "prompt_number": 12
    },
    {
     "cell_type": "markdown",
     "metadata": {},
     "source": [
      "Well, that's certainly not what we expected!\n",
      "After a bit of poking around,\n",
      "it turns out that when we select a cell from a grid,\n",
      "we don't get the cell's RGB color value.\n",
      "Instead,\n",
      "we get a `Pixel` that contains both the cell's color and its XY coordinates:"
     ]
    },
    {
     "cell_type": "code",
     "collapsed": false,
     "input": [
      "pixel = row[0, 0]\n",
      "help(pixel)"
     ],
     "language": "python",
     "metadata": {},
     "outputs": [
      {
       "output_type": "stream",
       "stream": "stdout",
       "text": [
        "Help on Pixel in module ipythonblocks object:\n",
        "\n",
        "class Pixel(Block)\n",
        " |  Method resolution order:\n",
        " |      Pixel\n",
        " |      Block\n",
        " |      __builtin__.object\n",
        " |  \n",
        " |  Methods defined here:\n",
        " |  \n",
        " |  __str__(self)\n",
        " |  \n",
        " |  ----------------------------------------------------------------------\n",
        " |  Data descriptors defined here:\n",
        " |  \n",
        " |  x\n",
        " |      Horizontal coordinate of Pixel.\n",
        " |  \n",
        " |  y\n",
        " |      Vertical coordinate of Pixel.\n",
        " |  \n",
        " |  ----------------------------------------------------------------------\n",
        " |  Methods inherited from Block:\n",
        " |  \n",
        " |  __eq__(self, other)\n",
        " |  \n",
        " |  __init__(self, red, green, blue, size=20)\n",
        " |  \n",
        " |  __repr__(self)\n",
        " |  \n",
        " |  set_colors(self, red, green, blue)\n",
        " |      Updated block colors.\n",
        " |      \n",
        " |      Parameters\n",
        " |      ----------\n",
        " |      red, green, blue : int\n",
        " |          Integers on the range [0 - 255].\n",
        " |  \n",
        " |  show(self)\n",
        " |  \n",
        " |  ----------------------------------------------------------------------\n",
        " |  Data descriptors inherited from Block:\n",
        " |  \n",
        " |  __dict__\n",
        " |      dictionary for instance variables (if defined)\n",
        " |  \n",
        " |  __weakref__\n",
        " |      list of weak references to the object (if defined)\n",
        " |  \n",
        " |  blue\n",
        " |  \n",
        " |  col\n",
        " |  \n",
        " |  green\n",
        " |  \n",
        " |  red\n",
        " |  \n",
        " |  rgb\n",
        " |  \n",
        " |  row\n",
        " |  \n",
        " |  size\n",
        " |  \n",
        " |  ----------------------------------------------------------------------\n",
        " |  Data and other attributes inherited from Block:\n",
        " |  \n",
        " |  __hash__ = None\n",
        "\n"
       ]
      }
     ],
     "prompt_number": 22
    },
    {
     "cell_type": "markdown",
     "metadata": {},
     "source": [
      "What we need to do is compare `colors.BLACK` with `grid[x, 0].rgb`.\n",
      "Let's rewrite our function and try it:"
     ]
    },
    {
     "cell_type": "code",
     "collapsed": false,
     "input": [
      "def invert(grid):\n",
      "    for x in range(grid.width):\n",
      "        if grid[x, 0].rgb == colors.ORCHID: # comparing to RGB\n",
      "            grid[x, 0] = colors.BLACK\n",
      "        else:\n",
      "            grid[x, 0] = colors.ORCHID\n",
      "\n",
      "row = ImageGrid(6, 1)\n",
      "row[1, 0] = colors.ORCHID\n",
      "row[5, 0] = colors.ORCHID\n",
      "invert(row)\n",
      "row.show()"
     ],
     "language": "python",
     "metadata": {},
     "outputs": [
      {
       "html": [
        "<style type=\"text/css\">table.blockgrid {border: none;} .blockgrid tr {border: none;} .blockgrid td {padding: 0px;} #blocksd481c055-023a-4cc4-ba79-093cfff45359 td {border: 1px solid white;}</style><table id=\"blocksd481c055-023a-4cc4-ba79-093cfff45359\" class=\"blockgrid\"><tbody><tr><td title=\"Index: [0, 0]&#10;Color: (218, 112, 214)\" style=\"width: 20px; height: 20px;background-color: rgb(218, 112, 214);\"></td><td title=\"Index: [1, 0]&#10;Color: (0, 0, 0)\" style=\"width: 20px; height: 20px;background-color: rgb(0, 0, 0);\"></td><td title=\"Index: [2, 0]&#10;Color: (218, 112, 214)\" style=\"width: 20px; height: 20px;background-color: rgb(218, 112, 214);\"></td><td title=\"Index: [3, 0]&#10;Color: (218, 112, 214)\" style=\"width: 20px; height: 20px;background-color: rgb(218, 112, 214);\"></td><td title=\"Index: [4, 0]&#10;Color: (218, 112, 214)\" style=\"width: 20px; height: 20px;background-color: rgb(218, 112, 214);\"></td><td title=\"Index: [5, 0]&#10;Color: (0, 0, 0)\" style=\"width: 20px; height: 20px;background-color: rgb(0, 0, 0);\"></td></tr></tbody></table>"
       ],
       "metadata": {},
       "output_type": "display_data",
       "text": [
        "<IPython.core.display.HTML at 0x102e3f2d0>"
       ]
      }
     ],
     "prompt_number": 26
    },
    {
     "cell_type": "markdown",
     "metadata": {},
     "source": [
      "That seems to have worked&mdash;let's try with the other row:"
     ]
    },
    {
     "cell_type": "code",
     "collapsed": false,
     "input": [
      "invert(another_row)\n",
      "another_row.show()"
     ],
     "language": "python",
     "metadata": {},
     "outputs": [
      {
       "html": [
        "<style type=\"text/css\">table.blockgrid {border: none;} .blockgrid tr {border: none;} .blockgrid td {padding: 0px;} #blocksb13fb527-c3ef-448a-bb4d-b26b1191aeb0 td {border: 1px solid white;}</style><table id=\"blocksb13fb527-c3ef-448a-bb4d-b26b1191aeb0\" class=\"blockgrid\"><tbody><tr><td title=\"Index: [0, 0]&#10;Color: (0, 0, 0)\" style=\"width: 20px; height: 20px;background-color: rgb(0, 0, 0);\"></td><td title=\"Index: [1, 0]&#10;Color: (0, 0, 0)\" style=\"width: 20px; height: 20px;background-color: rgb(0, 0, 0);\"></td><td title=\"Index: [2, 0]&#10;Color: (218, 112, 214)\" style=\"width: 20px; height: 20px;background-color: rgb(218, 112, 214);\"></td><td title=\"Index: [3, 0]&#10;Color: (0, 0, 0)\" style=\"width: 20px; height: 20px;background-color: rgb(0, 0, 0);\"></td><td title=\"Index: [4, 0]&#10;Color: (218, 112, 214)\" style=\"width: 20px; height: 20px;background-color: rgb(218, 112, 214);\"></td><td title=\"Index: [5, 0]&#10;Color: (218, 112, 214)\" style=\"width: 20px; height: 20px;background-color: rgb(218, 112, 214);\"></td><td title=\"Index: [6, 0]&#10;Color: (218, 112, 214)\" style=\"width: 20px; height: 20px;background-color: rgb(218, 112, 214);\"></td><td title=\"Index: [7, 0]&#10;Color: (218, 112, 214)\" style=\"width: 20px; height: 20px;background-color: rgb(218, 112, 214);\"></td></tr></tbody></table>"
       ],
       "metadata": {},
       "output_type": "display_data",
       "text": [
        "<IPython.core.display.HTML at 0x10402e090>"
       ]
      }
     ],
     "prompt_number": 27
    },
    {
     "cell_type": "markdown",
     "metadata": {},
     "source": [
      "That seems to have worked too&mdash;or did it?\n",
      "We can't check by displaying the original state of `another_row`\n",
      "because we've just changed it.\n",
      "What we really ought to do is change our function to create a new grid\n",
      "rather than modifying the one we pass in:"
     ]
    },
    {
     "cell_type": "code",
     "collapsed": false,
     "input": [
      "def invert(grid):\n",
      "    result = ImageGrid(grid.width, 1)\n",
      "    for x in range(grid.width):\n",
      "        if grid[x, 0].rgb == colors.ORCHID:\n",
      "            result[x, 0] = colors.BLACK\n",
      "        else:\n",
      "            result[x, 0] = colors.ORCHID\n",
      "    return result"
     ],
     "language": "python",
     "metadata": {},
     "outputs": [],
     "prompt_number": 29
    },
    {
     "cell_type": "markdown",
     "metadata": {},
     "source": [
      "Let's try it out:"
     ]
    },
    {
     "cell_type": "code",
     "collapsed": false,
     "input": [
      "test_case = ImageGrid(4, 1)\n",
      "test_case[0, 0] = colors.ORCHID\n",
      "test_case[3, 0] = colors.ORCHID\n",
      "test_case.show()"
     ],
     "language": "python",
     "metadata": {},
     "outputs": [
      {
       "html": [
        "<style type=\"text/css\">table.blockgrid {border: none;} .blockgrid tr {border: none;} .blockgrid td {padding: 0px;} #blocksa6f8b946-6b62-4f06-9dec-f24c2dc85ddf td {border: 1px solid white;}</style><table id=\"blocksa6f8b946-6b62-4f06-9dec-f24c2dc85ddf\" class=\"blockgrid\"><tbody><tr><td title=\"Index: [0, 0]&#10;Color: (218, 112, 214)\" style=\"width: 20px; height: 20px;background-color: rgb(218, 112, 214);\"></td><td title=\"Index: [1, 0]&#10;Color: (0, 0, 0)\" style=\"width: 20px; height: 20px;background-color: rgb(0, 0, 0);\"></td><td title=\"Index: [2, 0]&#10;Color: (0, 0, 0)\" style=\"width: 20px; height: 20px;background-color: rgb(0, 0, 0);\"></td><td title=\"Index: [3, 0]&#10;Color: (218, 112, 214)\" style=\"width: 20px; height: 20px;background-color: rgb(218, 112, 214);\"></td></tr></tbody></table>"
       ],
       "metadata": {},
       "output_type": "display_data",
       "text": [
        "<IPython.core.display.HTML at 0x102c23250>"
       ]
      }
     ],
     "prompt_number": 30
    },
    {
     "cell_type": "markdown",
     "metadata": {},
     "source": [
      "and:"
     ]
    },
    {
     "cell_type": "code",
     "collapsed": false,
     "input": [
      "changed = invert(test_case)\n",
      "changed.show()"
     ],
     "language": "python",
     "metadata": {},
     "outputs": [
      {
       "html": [
        "<style type=\"text/css\">table.blockgrid {border: none;} .blockgrid tr {border: none;} .blockgrid td {padding: 0px;} #blocksbbda6e68-9f92-4aa2-8bd6-45d0e19be758 td {border: 1px solid white;}</style><table id=\"blocksbbda6e68-9f92-4aa2-8bd6-45d0e19be758\" class=\"blockgrid\"><tbody><tr><td title=\"Index: [0, 0]&#10;Color: (0, 0, 0)\" style=\"width: 20px; height: 20px;background-color: rgb(0, 0, 0);\"></td><td title=\"Index: [1, 0]&#10;Color: (218, 112, 214)\" style=\"width: 20px; height: 20px;background-color: rgb(218, 112, 214);\"></td><td title=\"Index: [2, 0]&#10;Color: (218, 112, 214)\" style=\"width: 20px; height: 20px;background-color: rgb(218, 112, 214);\"></td><td title=\"Index: [3, 0]&#10;Color: (0, 0, 0)\" style=\"width: 20px; height: 20px;background-color: rgb(0, 0, 0);\"></td></tr></tbody></table>"
       ],
       "metadata": {},
       "output_type": "display_data",
       "text": [
        "<IPython.core.display.HTML at 0x10402e3d0>"
       ]
      }
     ],
     "prompt_number": 31
    },
    {
     "cell_type": "markdown",
     "metadata": {},
     "source": [
      "and:"
     ]
    },
    {
     "cell_type": "code",
     "collapsed": false,
     "input": [
      "test_case.show()"
     ],
     "language": "python",
     "metadata": {},
     "outputs": [
      {
       "html": [
        "<style type=\"text/css\">table.blockgrid {border: none;} .blockgrid tr {border: none;} .blockgrid td {padding: 0px;} #blocks1cabd3a8-1c62-4ebd-afc6-280398209b8b td {border: 1px solid white;}</style><table id=\"blocks1cabd3a8-1c62-4ebd-afc6-280398209b8b\" class=\"blockgrid\"><tbody><tr><td title=\"Index: [0, 0]&#10;Color: (218, 112, 214)\" style=\"width: 20px; height: 20px;background-color: rgb(218, 112, 214);\"></td><td title=\"Index: [1, 0]&#10;Color: (0, 0, 0)\" style=\"width: 20px; height: 20px;background-color: rgb(0, 0, 0);\"></td><td title=\"Index: [2, 0]&#10;Color: (0, 0, 0)\" style=\"width: 20px; height: 20px;background-color: rgb(0, 0, 0);\"></td><td title=\"Index: [3, 0]&#10;Color: (218, 112, 214)\" style=\"width: 20px; height: 20px;background-color: rgb(218, 112, 214);\"></td></tr></tbody></table>"
       ],
       "metadata": {},
       "output_type": "display_data",
       "text": [
        "<IPython.core.display.HTML at 0x10402e150>"
       ]
      }
     ],
     "prompt_number": 32
    },
    {
     "cell_type": "markdown",
     "metadata": {},
     "source": [
      "That's better:\n",
      "we still have our original data to compare our new data to,\n",
      "and if we really want to overwrite the original,\n",
      "we can always do this:"
     ]
    },
    {
     "cell_type": "code",
     "collapsed": false,
     "input": [
      "test_case = invert(test_case)\n",
      "test_case.show()"
     ],
     "language": "python",
     "metadata": {},
     "outputs": [
      {
       "html": [
        "<style type=\"text/css\">table.blockgrid {border: none;} .blockgrid tr {border: none;} .blockgrid td {padding: 0px;} #blocks7d92de83-2c40-4b6d-8bf2-f64b082fbdad td {border: 1px solid white;}</style><table id=\"blocks7d92de83-2c40-4b6d-8bf2-f64b082fbdad\" class=\"blockgrid\"><tbody><tr><td title=\"Index: [0, 0]&#10;Color: (0, 0, 0)\" style=\"width: 20px; height: 20px;background-color: rgb(0, 0, 0);\"></td><td title=\"Index: [1, 0]&#10;Color: (218, 112, 214)\" style=\"width: 20px; height: 20px;background-color: rgb(218, 112, 214);\"></td><td title=\"Index: [2, 0]&#10;Color: (218, 112, 214)\" style=\"width: 20px; height: 20px;background-color: rgb(218, 112, 214);\"></td><td title=\"Index: [3, 0]&#10;Color: (0, 0, 0)\" style=\"width: 20px; height: 20px;background-color: rgb(0, 0, 0);\"></td></tr></tbody></table>"
       ],
       "metadata": {},
       "output_type": "display_data",
       "text": [
        "<IPython.core.display.HTML at 0x10402e090>"
       ]
      }
     ],
     "prompt_number": 33
    },
    {
     "cell_type": "markdown",
     "metadata": {},
     "source": [
      "<hr/>\n",
      "### *When to Mutate*\n",
      "\n",
      "<em>\n",
      "Changing a value in place is called [mutating](glossary.html#mutation) it.\n",
      "It makes programs harder to understand,\n",
      "since readers have to follow a sequence of steps in order to figure out\n",
      "what the value of a variable is,\n",
      "but it is often done for the sake of efficiency.\n",
      "Creating a new four-pixel image grid takes almost no time at all,\n",
      "but copying a multi-gigabyte video in order to eliminate red-eye in a couple of frames\n",
      "would be very slow.\n",
      "We'll return to this topic in [the lesson on lists](python-4-files-lists.ipynb).\n",
      "</em>\n",
      "<hr/>"
     ]
    },
    {
     "cell_type": "heading",
     "level": 2,
     "metadata": {},
     "source": [
      "Boolean Values and Operators"
     ]
    },
    {
     "cell_type": "markdown",
     "metadata": {},
     "source": [
      "Most people understand that 5+3 produces the value 8,\n",
      "but it can take a while to realize that 5>3 also produces a value.\n",
      "Let's do a few experiments:"
     ]
    },
    {
     "cell_type": "code",
     "collapsed": false,
     "input": [
      "print '5 is greater than 3:', 5 > 3\n",
      "print '5 is less than 3:', 5 < 3"
     ],
     "language": "python",
     "metadata": {},
     "outputs": [
      {
       "output_type": "stream",
       "stream": "stdout",
       "text": [
        "5 is greater than 3: True\n",
        "5 is less than 3: False\n"
       ]
      }
     ],
     "prompt_number": 34
    },
    {
     "cell_type": "markdown",
     "metadata": {},
     "source": [
      "The result of an expression like 5>3 is the *Boolean* `True`;\n",
      "the result of 5<3 is the Boolean `False`.\n",
      "Those are the only two values of the type `bool`:\n",
      "there are many thousands of different characters,\n",
      "and millions of integers and floating-point numbers,\n",
      "but `True` and `False` are all that `bool` gets.\n",
      "Like other values,\n",
      "Booleans can be assigned to variables:"
     ]
    },
    {
     "cell_type": "code",
     "collapsed": false,
     "input": [
      "answer = 5 > 3\n",
      "print 'answer stored in variable:', answer"
     ],
     "language": "python",
     "metadata": {},
     "outputs": [
      {
       "output_type": "stream",
       "stream": "stdout",
       "text": [
        "answer stored in variable: True\n"
       ]
      }
     ],
     "prompt_number": 35
    },
    {
     "cell_type": "markdown",
     "metadata": {},
     "source": [
      "Booleans can also be used directly in conditional statements:"
     ]
    },
    {
     "cell_type": "code",
     "collapsed": false,
     "input": [
      "if answer:\n",
      "    print 'answer is true'"
     ],
     "language": "python",
     "metadata": {},
     "outputs": [
      {
       "output_type": "stream",
       "stream": "stdout",
       "text": [
        "answer is true\n"
       ]
      }
     ],
     "prompt_number": 36
    },
    {
     "cell_type": "markdown",
     "metadata": {},
     "source": [
      "Note that we do *not* write `if answer == True`.\n",
      "`answer` itself is either `True` or `False`,\n",
      "and that's all `if` needs.\n",
      "As the table below shows,\n",
      "comparing a Boolean to `True` is redundant:"
     ]
    },
    {
     "cell_type": "markdown",
     "metadata": {},
     "source": [
      "<table>\n",
      "<tr><th>Value</th><th>`== True`</th></tr>\n",
      "<tr><td>`True`</td><td>`True`</td></tr>\n",
      "<tr><td>`False`</td><td>`False`</td></tr>\n",
      "</table>"
     ]
    },
    {
     "cell_type": "markdown",
     "metadata": {},
     "source": [
      "Booleans can be manipulated using three operators: `and`, `or`, and `not`.\n",
      "The third is the simplest:\n",
      "if `x` is `True`,\n",
      "`not x` is `False`\n",
      "and vice versa.\n",
      "`and` produces `True` only if both of its operands are `True`,\n",
      "while `or` produces `True` if either or both of its operands are `True`.\n",
      "(This is sometimes called *inclusive or*;\n",
      "the term *exclusive or* is used to mean\n",
      "\"one or the other is true, but not both\".)"
     ]
    },
    {
     "cell_type": "markdown",
     "metadata": {},
     "source": [
      "Python evaluates `and` and `or` a bit differently from\n",
      "the way it evaluates arithmetic operators like `+` and `*`.\n",
      "When Python executes `x+y`,\n",
      "it gets the values of `x` and `y` before performing the addition,\n",
      "but is allowed to decide for itself whether to get `x` or `y` first.\n",
      "When it evaluates `x or y`,\n",
      "on the other hand,\n",
      "it always starts by checking whether `x` is `True`.\n",
      "If it is,\n",
      "it stops evaluation right there:\n",
      "since `or` is `True` if either operand is `True`,\n",
      "Python doesn't need to know the value of `y` in order to complete its calculations.\n",
      "If `x` is `False`,\n",
      "on the other hand,\n",
      "Python must get `y` in order to figure out the expression's final value."
     ]
    },
    {
     "cell_type": "markdown",
     "metadata": {},
     "source": [
      "Similarly,\n",
      "when Python evaluates `x and y`,\n",
      "it always starts by getting the value of `x`.\n",
      "If this is `False`,\n",
      "the result is bound to be `False`,\n",
      "so Python doesn't even try to get the value of `y`.\n",
      "This is called *short-circuit evaluation*,\n",
      "and is often used to do things like this:"
     ]
    },
    {
     "cell_type": "markdown",
     "metadata": {},
     "source": [
      "```python\n",
      "if (number != 0) and (1/number < threshold):\n",
      "    total += 1/number\n",
      "```"
     ]
    },
    {
     "cell_type": "markdown",
     "metadata": {},
     "source": [
      "Without that first test,\n",
      "the `if` would blow up if `number` was zero.\n",
      "Since Python always executes the check for zero *before* checking the reciprocal of `number`,\n",
      "though,\n",
      "this is safe to execute."
     ]
    },
    {
     "cell_type": "markdown",
     "metadata": {},
     "source": [
      "One other thing that's special about Booleans is that\n",
      "values of almost any other type can be used in their place.\n",
      "The numbers 0 and 0.0 are treated as equivalent to `False`,\n",
      "and so is the *empty string* `''`;\n",
      "all other numbers and strings are equivalent to `True`.\n",
      "This means that we can rewrite:"
     ]
    },
    {
     "cell_type": "markdown",
     "metadata": {},
     "source": [
      "```python\n",
      "if len(some_string) > 0:\n",
      "    ...do something...\n",
      "```"
     ]
    },
    {
     "cell_type": "markdown",
     "metadata": {},
     "source": [
      "as:"
     ]
    },
    {
     "cell_type": "markdown",
     "metadata": {},
     "source": [
      "```python\n",
      "if len(some_string):\n",
      "    ...do something...\n",
      "```"
     ]
    },
    {
     "cell_type": "markdown",
     "metadata": {},
     "source": [
      "or even just as:"
     ]
    },
    {
     "cell_type": "markdown",
     "metadata": {},
     "source": [
      "```python\n",
      "if some_string:\n",
      "    ...do something...\n",
      "```"
     ]
    },
    {
     "cell_type": "markdown",
     "metadata": {},
     "source": [
      "The first version checks that the length of the string is greater than zero,\n",
      "i.e.,\n",
      "that the string contains some characters.\n",
      "The second version checks that the length of the string is not zero;\n",
      "since the length can't be negative,\n",
      "this is the same as checking that it's positive.\n",
      "The final version just checks that `some_string` is not the empty string:\n",
      "it's the shortest,\n",
      "the most efficient to execute,\n",
      "and the one that most experienced Python programmers would write,\n",
      "but it also puts the greatest burden on the reader.\n",
      "Which one you use is up to you,\n",
      "but whatever you do,\n",
      "please be consistent:\n",
      "many studies have shown that people can learn to read almost anything quickly\n",
      "as long as there are patterns for their eyes and brain to follow"
     ]
    },
    {
     "cell_type": "heading",
     "level": 2,
     "metadata": {},
     "source": [
      "Defensive Programming"
     ]
    },
    {
     "cell_type": "markdown",
     "metadata": {},
     "source": [
      "Initializing image grids by assigning colors to cells one at a time is getting pretty tedious,\n",
      "so let's invent something easier.\n",
      "As a general rule,\n",
      "this is how a lot of software gets written,\n",
      "and not just by scientists:\n",
      "if we find ourselves doing the same thing repeatedly,\n",
      "it's worth taking a few minutes to teach the computer how to do it for us."
     ]
    },
    {
     "cell_type": "markdown",
     "metadata": {},
     "source": [
      "We'll start by coloring the cells of a one-row grid red or green\n",
      "based on a string containing the letters 'R' and 'G':"
     ]
    },
    {
     "cell_type": "code",
     "collapsed": false,
     "input": [
      "data = 'RGRGRRGG'\n",
      "row = ImageGrid(8, 1)\n",
      "for x in range(8):\n",
      "    if data[x] == 'R':\n",
      "        row[x, 0] = colors.RED\n",
      "    else:\n",
      "        row[x, 0] = colors.GREEN\n",
      "row.show()"
     ],
     "language": "python",
     "metadata": {},
     "outputs": [
      {
       "html": [
        "<style type=\"text/css\">table.blockgrid {border: none;} .blockgrid tr {border: none;} .blockgrid td {padding: 0px;} #blocksfaf95cf6-c4fa-4d81-bf8e-5d9eba25b7cb td {border: 1px solid white;}</style><table id=\"blocksfaf95cf6-c4fa-4d81-bf8e-5d9eba25b7cb\" class=\"blockgrid\"><tbody><tr><td title=\"Index: [0, 0]&#10;Color: (255, 0, 0)\" style=\"width: 20px; height: 20px;background-color: rgb(255, 0, 0);\"></td><td title=\"Index: [1, 0]&#10;Color: (0, 255, 0)\" style=\"width: 20px; height: 20px;background-color: rgb(0, 255, 0);\"></td><td title=\"Index: [2, 0]&#10;Color: (255, 0, 0)\" style=\"width: 20px; height: 20px;background-color: rgb(255, 0, 0);\"></td><td title=\"Index: [3, 0]&#10;Color: (0, 255, 0)\" style=\"width: 20px; height: 20px;background-color: rgb(0, 255, 0);\"></td><td title=\"Index: [4, 0]&#10;Color: (255, 0, 0)\" style=\"width: 20px; height: 20px;background-color: rgb(255, 0, 0);\"></td><td title=\"Index: [5, 0]&#10;Color: (255, 0, 0)\" style=\"width: 20px; height: 20px;background-color: rgb(255, 0, 0);\"></td><td title=\"Index: [6, 0]&#10;Color: (0, 255, 0)\" style=\"width: 20px; height: 20px;background-color: rgb(0, 255, 0);\"></td><td title=\"Index: [7, 0]&#10;Color: (0, 255, 0)\" style=\"width: 20px; height: 20px;background-color: rgb(0, 255, 0);\"></td></tr></tbody></table>"
       ],
       "metadata": {},
       "output_type": "display_data",
       "text": [
        "<IPython.core.display.HTML at 0x102c7a190>"
       ]
      }
     ],
     "prompt_number": 44
    },
    {
     "cell_type": "markdown",
     "metadata": {},
     "source": [
      "That seems to have worked:\n",
      "the cells of the grid are red and green in the same locations that\n",
      "the characters 'R' and 'G' appear in the string.\n",
      "Let's try putting the code in a function:"
     ]
    },
    {
     "cell_type": "code",
     "collapsed": false,
     "input": [
      "def color_from_string(grid, data):\n",
      "    for x in range(grid.width):\n",
      "        if data[x] == 'R':\n",
      "            grid[x, 0] = colors.RED\n",
      "        else:\n",
      "            grid[x, 0] = colors.GREEN\n",
      "\n",
      "test_row = ImageGrid(12, 1)\n",
      "color_from_string(test_row, 'GGGGGGRRRPRR')\n",
      "test_row.show()"
     ],
     "language": "python",
     "metadata": {},
     "outputs": [
      {
       "html": [
        "<style type=\"text/css\">table.blockgrid {border: none;} .blockgrid tr {border: none;} .blockgrid td {padding: 0px;} #blocks76604f80-2c3d-485c-8584-d40e943b1cc7 td {border: 1px solid white;}</style><table id=\"blocks76604f80-2c3d-485c-8584-d40e943b1cc7\" class=\"blockgrid\"><tbody><tr><td title=\"Index: [0, 0]&#10;Color: (0, 255, 0)\" style=\"width: 20px; height: 20px;background-color: rgb(0, 255, 0);\"></td><td title=\"Index: [1, 0]&#10;Color: (0, 255, 0)\" style=\"width: 20px; height: 20px;background-color: rgb(0, 255, 0);\"></td><td title=\"Index: [2, 0]&#10;Color: (0, 255, 0)\" style=\"width: 20px; height: 20px;background-color: rgb(0, 255, 0);\"></td><td title=\"Index: [3, 0]&#10;Color: (0, 255, 0)\" style=\"width: 20px; height: 20px;background-color: rgb(0, 255, 0);\"></td><td title=\"Index: [4, 0]&#10;Color: (0, 255, 0)\" style=\"width: 20px; height: 20px;background-color: rgb(0, 255, 0);\"></td><td title=\"Index: [5, 0]&#10;Color: (0, 255, 0)\" style=\"width: 20px; height: 20px;background-color: rgb(0, 255, 0);\"></td><td title=\"Index: [6, 0]&#10;Color: (255, 0, 0)\" style=\"width: 20px; height: 20px;background-color: rgb(255, 0, 0);\"></td><td title=\"Index: [7, 0]&#10;Color: (255, 0, 0)\" style=\"width: 20px; height: 20px;background-color: rgb(255, 0, 0);\"></td><td title=\"Index: [8, 0]&#10;Color: (255, 0, 0)\" style=\"width: 20px; height: 20px;background-color: rgb(255, 0, 0);\"></td><td title=\"Index: [9, 0]&#10;Color: (0, 255, 0)\" style=\"width: 20px; height: 20px;background-color: rgb(0, 255, 0);\"></td><td title=\"Index: [10, 0]&#10;Color: (255, 0, 0)\" style=\"width: 20px; height: 20px;background-color: rgb(255, 0, 0);\"></td><td title=\"Index: [11, 0]&#10;Color: (255, 0, 0)\" style=\"width: 20px; height: 20px;background-color: rgb(255, 0, 0);\"></td></tr></tbody></table>"
       ],
       "metadata": {},
       "output_type": "display_data",
       "text": [
        "<IPython.core.display.HTML at 0x102c7aed0>"
       ]
      }
     ],
     "prompt_number": 73
    },
    {
     "cell_type": "markdown",
     "metadata": {},
     "source": [
      "Why is one cell on the right green?\n",
      "It should be red,\n",
      "because our string is six G's and six&mdash;oh.\n",
      "Oops.\n",
      "There's a P mixed in with our R's,\n",
      "but since the two letters are so similar,\n",
      "it was hard to spot.\n",
      "Let's modify out function to detect that kind of error\n",
      "and tell us about it instead of just failing silently."
     ]
    },
    {
     "cell_type": "code",
     "collapsed": false,
     "input": [
      "def color_from_string(grid, data):\n",
      "    for x in range(grid.width):\n",
      "        assert data[x] in 'GR', 'Unknown character in data string'\n",
      "        if data[x] == 'R':\n",
      "            grid[x, 0] = colors.RED\n",
      "        else:\n",
      "            grid[x, 0] = colors.GREEN"
     ],
     "language": "python",
     "metadata": {},
     "outputs": [],
     "prompt_number": 75
    },
    {
     "cell_type": "markdown",
     "metadata": {},
     "source": [
      "The statement on line 3 is called an *assertion*.\n",
      "When Python encounters one,\n",
      "it checks that the assertion's condition is true.\n",
      "If it is,\n",
      "Python does nothing,\n",
      "but if it's not,\n",
      "Python halts the program immediately\n",
      "and prints the error message provided.\n",
      "Let's test it out:"
     ]
    },
    {
     "cell_type": "code",
     "collapsed": false,
     "input": [
      "test_row = ImageGrid(12, 1)\n",
      "color_from_string(test_row, 'GGGGGGRRRPRR')\n",
      "test_row.show()"
     ],
     "language": "python",
     "metadata": {},
     "outputs": [
      {
       "ename": "AssertionError",
       "evalue": "Unknown character in data string",
       "output_type": "pyerr",
       "traceback": [
        "\u001b[0;31m---------------------------------------------------------------------------\u001b[0m\n\u001b[0;31mAssertionError\u001b[0m                            Traceback (most recent call last)",
        "\u001b[0;32m<ipython-input-78-7ce272b891e1>\u001b[0m in \u001b[0;36m<module>\u001b[0;34m()\u001b[0m\n\u001b[1;32m      1\u001b[0m \u001b[0mtest_row\u001b[0m \u001b[0;34m=\u001b[0m \u001b[0mImageGrid\u001b[0m\u001b[0;34m(\u001b[0m\u001b[0;36m12\u001b[0m\u001b[0;34m,\u001b[0m \u001b[0;36m1\u001b[0m\u001b[0;34m)\u001b[0m\u001b[0;34m\u001b[0m\u001b[0m\n\u001b[0;32m----> 2\u001b[0;31m \u001b[0mcolor_from_string\u001b[0m\u001b[0;34m(\u001b[0m\u001b[0mtest_row\u001b[0m\u001b[0;34m,\u001b[0m \u001b[0;34m'GGGGGGRRRPRR'\u001b[0m\u001b[0;34m)\u001b[0m\u001b[0;34m\u001b[0m\u001b[0m\n\u001b[0m\u001b[1;32m      3\u001b[0m \u001b[0mtest_row\u001b[0m\u001b[0;34m.\u001b[0m\u001b[0mshow\u001b[0m\u001b[0;34m(\u001b[0m\u001b[0;34m)\u001b[0m\u001b[0;34m\u001b[0m\u001b[0m\n",
        "\u001b[0;32m<ipython-input-77-814a9bf03e05>\u001b[0m in \u001b[0;36mcolor_from_string\u001b[0;34m(grid, data)\u001b[0m\n\u001b[1;32m      1\u001b[0m \u001b[0;32mdef\u001b[0m \u001b[0mcolor_from_string\u001b[0m\u001b[0;34m(\u001b[0m\u001b[0mgrid\u001b[0m\u001b[0;34m,\u001b[0m \u001b[0mdata\u001b[0m\u001b[0;34m)\u001b[0m\u001b[0;34m:\u001b[0m\u001b[0;34m\u001b[0m\u001b[0m\n\u001b[1;32m      2\u001b[0m     \u001b[0;32mfor\u001b[0m \u001b[0mx\u001b[0m \u001b[0;32min\u001b[0m \u001b[0mrange\u001b[0m\u001b[0;34m(\u001b[0m\u001b[0mgrid\u001b[0m\u001b[0;34m.\u001b[0m\u001b[0mwidth\u001b[0m\u001b[0;34m)\u001b[0m\u001b[0;34m:\u001b[0m\u001b[0;34m\u001b[0m\u001b[0m\n\u001b[0;32m----> 3\u001b[0;31m         \u001b[0;32massert\u001b[0m \u001b[0mdata\u001b[0m\u001b[0;34m[\u001b[0m\u001b[0mx\u001b[0m\u001b[0;34m]\u001b[0m \u001b[0;32min\u001b[0m \u001b[0;34m'GR'\u001b[0m\u001b[0;34m,\u001b[0m \u001b[0;34m'Unknown character in data string'\u001b[0m\u001b[0;34m\u001b[0m\u001b[0m\n\u001b[0m\u001b[1;32m      4\u001b[0m         \u001b[0;32mif\u001b[0m \u001b[0mdata\u001b[0m\u001b[0;34m[\u001b[0m\u001b[0mx\u001b[0m\u001b[0;34m]\u001b[0m \u001b[0;34m==\u001b[0m \u001b[0;34m'R'\u001b[0m\u001b[0;34m:\u001b[0m\u001b[0;34m\u001b[0m\u001b[0m\n\u001b[1;32m      5\u001b[0m             \u001b[0mgrid\u001b[0m\u001b[0;34m[\u001b[0m\u001b[0mx\u001b[0m\u001b[0;34m,\u001b[0m \u001b[0;36m0\u001b[0m\u001b[0;34m]\u001b[0m \u001b[0;34m=\u001b[0m \u001b[0mcolors\u001b[0m\u001b[0;34m.\u001b[0m\u001b[0mRED\u001b[0m\u001b[0;34m\u001b[0m\u001b[0m\n",
        "\u001b[0;31mAssertionError\u001b[0m: Unknown character in data string"
       ]
      }
     ],
     "prompt_number": 78
    },
    {
     "cell_type": "markdown",
     "metadata": {},
     "source": [
      "Excellent:\n",
      "rather than trusting us to be perfect,\n",
      "our function is now checking that we've called it with sensible values,\n",
      "and halting immediately if we haven't.\n",
      "This is one embodiment of another general principle of programming called\n",
      "**FEFO**:\n",
      "fail early,\n",
      "fail often.\n",
      "The more code the computer executes between when something goes wrong\n",
      "and when the symptoms of that error show up,\n",
      "the more we'll have to wade through when debugging,\n",
      "so getting the computer to stop as soon as it can after a mistake can save us hours or days of hunting around.\n",
      "Assertions are also good documentation,\n",
      "since they give human readers hints about how the code ought to work."
     ]
    },
    {
     "cell_type": "markdown",
     "metadata": {},
     "source": [
      "<hr/>\n",
      "### *Other Ways To Do It*\n",
      "\n",
      "<em>\n",
      "Another way to write this function would be to check the characters as part of the conditional statement:\n",
      "</em>"
     ]
    },
    {
     "cell_type": "code",
     "collapsed": false,
     "input": [
      "def color_from_string(grid, data):\n",
      "    for x in range(grid.width):\n",
      "        if data[x] == 'R':\n",
      "            grid[x, 0] = colors.RED\n",
      "        elif data[x] == 'G':\n",
      "            grid[x, 0] = colors.GREEN\n",
      "        else:\n",
      "            assert False, 'Unknown character in data string'"
     ],
     "language": "python",
     "metadata": {},
     "outputs": [],
     "prompt_number": 79
    },
    {
     "cell_type": "markdown",
     "metadata": {},
     "source": [
      "<em>\n",
      "The advantage of this is that\n",
      "the legal characters only appear once,\n",
      "rather than being duplicated in the `assert` and in the conditional.\n",
      "The disadvantage is that `assert False` sounds odd to many people,\n",
      "since it's guaranteed to fail every time.\n",
      "More importantly,\n",
      "it doesn't make sense on its own:\n",
      "we can only understand **why** we're always failing on that line\n",
      "by reading the `if` and `elif` that come before it.\n",
      "</em>"
     ]
    },
    {
     "cell_type": "markdown",
     "metadata": {},
     "source": [
      "<em>\n",
      "Another way to write this,\n",
      "which many people prefer,\n",
      "is to do all our checking before we modify the grid:\n",
      "</em>"
     ]
    },
    {
     "cell_type": "code",
     "collapsed": false,
     "input": [
      "def color_from_string(grid, data):\n",
      "    for char in data:\n",
      "        assert char in 'RG', 'Unknown character in data string'\n",
      "    for x in range(grid.width):\n",
      "        if data[x] == 'R':\n",
      "            grid[x, 0] = colors.RED\n",
      "        else:\n",
      "            grid[x, 0] = colors.GREEN"
     ],
     "language": "python",
     "metadata": {},
     "outputs": [],
     "prompt_number": 80
    },
    {
     "cell_type": "markdown",
     "metadata": {},
     "source": [
      "<em>\n",
      "This version doesn't do anything until it's sure that whatever it does will succeed,\n",
      "so there's no risk of changing part of the grid but not the rest.\n",
      "On the other hand,\n",
      "there are now two loops instead of one.\n",
      "While the slowdown due to the extra loop won't be noticeable on small grids,\n",
      "checking data before modifying it can have a noticeable impact on\n",
      "the speed of programs that are working with terabytes.\n",
      "Again,\n",
      "it's up to you to use whichever variation you prefer,\n",
      "but whichever one you choose,\n",
      "you should write all your checks the same way.\n",
      "</em>\n",
      "<hr/>"
     ]
    },
    {
     "cell_type": "markdown",
     "metadata": {},
     "source": [
      "We can check more than just the color characters in the input string,\n",
      "and we should.\n",
      "Here's another mistaken call to our function:"
     ]
    },
    {
     "cell_type": "code",
     "collapsed": false,
     "input": [
      "def color_from_string(grid, data):\n",
      "    for x in range(grid.width):\n",
      "        assert data[x] in 'GR', 'Unknown character in data string'\n",
      "        if data[x] == 'R':\n",
      "            grid[x, 0] = colors.RED\n",
      "        else:\n",
      "            grid[x, 0] = colors.GREEN\n",
      "\n",
      "test_row = ImageGrid(8, 1)\n",
      "color_from_string(test_row, 'RGRGRGG')\n",
      "test_row.show()"
     ],
     "language": "python",
     "metadata": {},
     "outputs": [
      {
       "ename": "IndexError",
       "evalue": "string index out of range",
       "output_type": "pyerr",
       "traceback": [
        "\u001b[0;31m---------------------------------------------------------------------------\u001b[0m\n\u001b[0;31mIndexError\u001b[0m                                Traceback (most recent call last)",
        "\u001b[0;32m<ipython-input-81-814a9bf03e05>\u001b[0m in \u001b[0;36m<module>\u001b[0;34m()\u001b[0m\n\u001b[1;32m      8\u001b[0m \u001b[0;34m\u001b[0m\u001b[0m\n\u001b[1;32m      9\u001b[0m \u001b[0mtest_row\u001b[0m \u001b[0;34m=\u001b[0m \u001b[0mImageGrid\u001b[0m\u001b[0;34m(\u001b[0m\u001b[0;36m8\u001b[0m\u001b[0;34m,\u001b[0m \u001b[0;36m1\u001b[0m\u001b[0;34m)\u001b[0m\u001b[0;34m\u001b[0m\u001b[0m\n\u001b[0;32m---> 10\u001b[0;31m \u001b[0mcolor_from_string\u001b[0m\u001b[0;34m(\u001b[0m\u001b[0mtest_row\u001b[0m\u001b[0;34m,\u001b[0m \u001b[0;34m'RGRGRGG'\u001b[0m\u001b[0;34m)\u001b[0m\u001b[0;34m\u001b[0m\u001b[0m\n\u001b[0m\u001b[1;32m     11\u001b[0m \u001b[0mtest_row\u001b[0m\u001b[0;34m.\u001b[0m\u001b[0mshow\u001b[0m\u001b[0;34m(\u001b[0m\u001b[0;34m)\u001b[0m\u001b[0;34m\u001b[0m\u001b[0m\n",
        "\u001b[0;32m<ipython-input-81-814a9bf03e05>\u001b[0m in \u001b[0;36mcolor_from_string\u001b[0;34m(grid, data)\u001b[0m\n\u001b[1;32m      1\u001b[0m \u001b[0;32mdef\u001b[0m \u001b[0mcolor_from_string\u001b[0m\u001b[0;34m(\u001b[0m\u001b[0mgrid\u001b[0m\u001b[0;34m,\u001b[0m \u001b[0mdata\u001b[0m\u001b[0;34m)\u001b[0m\u001b[0;34m:\u001b[0m\u001b[0;34m\u001b[0m\u001b[0m\n\u001b[1;32m      2\u001b[0m     \u001b[0;32mfor\u001b[0m \u001b[0mx\u001b[0m \u001b[0;32min\u001b[0m \u001b[0mrange\u001b[0m\u001b[0;34m(\u001b[0m\u001b[0mgrid\u001b[0m\u001b[0;34m.\u001b[0m\u001b[0mwidth\u001b[0m\u001b[0;34m)\u001b[0m\u001b[0;34m:\u001b[0m\u001b[0;34m\u001b[0m\u001b[0m\n\u001b[0;32m----> 3\u001b[0;31m         \u001b[0;32massert\u001b[0m \u001b[0mdata\u001b[0m\u001b[0;34m[\u001b[0m\u001b[0mx\u001b[0m\u001b[0;34m]\u001b[0m \u001b[0;32min\u001b[0m \u001b[0;34m'GR'\u001b[0m\u001b[0;34m,\u001b[0m \u001b[0;34m'Unknown character in data string'\u001b[0m\u001b[0;34m\u001b[0m\u001b[0m\n\u001b[0m\u001b[1;32m      4\u001b[0m         \u001b[0;32mif\u001b[0m \u001b[0mdata\u001b[0m\u001b[0;34m[\u001b[0m\u001b[0mx\u001b[0m\u001b[0;34m]\u001b[0m \u001b[0;34m==\u001b[0m \u001b[0;34m'R'\u001b[0m\u001b[0;34m:\u001b[0m\u001b[0;34m\u001b[0m\u001b[0m\n\u001b[1;32m      5\u001b[0m             \u001b[0mgrid\u001b[0m\u001b[0;34m[\u001b[0m\u001b[0mx\u001b[0m\u001b[0;34m,\u001b[0m \u001b[0;36m0\u001b[0m\u001b[0;34m]\u001b[0m \u001b[0;34m=\u001b[0m \u001b[0mcolors\u001b[0m\u001b[0;34m.\u001b[0m\u001b[0mRED\u001b[0m\u001b[0;34m\u001b[0m\u001b[0m\n",
        "\u001b[0;31mIndexError\u001b[0m: string index out of range"
       ]
      }
     ],
     "prompt_number": 81
    },
    {
     "cell_type": "markdown",
     "metadata": {},
     "source": [
      "Whoops:\n",
      "it looks like we're trying to get a character from the string that doesn't exist.\n",
      "Let's try printing out our loop variable as we go along:"
     ]
    },
    {
     "cell_type": "code",
     "collapsed": false,
     "input": [
      "def color_from_string(grid, data):\n",
      "    for x in range(grid.width):\n",
      "        print '*** x is', x\n",
      "        assert data[x] in 'GR', 'Unknown character in data string'\n",
      "        if data[x] == 'R':\n",
      "            grid[x, 0] = colors.RED\n",
      "        else:\n",
      "            grid[x, 0] = colors.GREEN\n",
      "\n",
      "color_from_string(test_row, 'RGRGRRGG')"
     ],
     "language": "python",
     "metadata": {},
     "outputs": [
      {
       "output_type": "stream",
       "stream": "stdout",
       "text": [
        "*** x is 0\n",
        "*** x is 1\n",
        "*** x is 2\n",
        "*** x is 3\n",
        "*** x is 4\n",
        "*** x is 5\n",
        "*** x is 6\n",
        "*** x is 7\n"
       ]
      }
     ],
     "prompt_number": 82
    },
    {
     "cell_type": "markdown",
     "metadata": {},
     "source": [
      "Why would printing out the loop variable stop the function from crashing?\n",
      "The answer is that we didn't just add a `print` statement to our function:\n",
      "we also passed in a different character string.\n",
      "In the first call,\n",
      "we used `'RGRGRGG'`,\n",
      "which has only 7 characters;\n",
      "in the second,\n",
      "we used `'RGRGRRGG'`,\n",
      "which has 8.\n",
      "This is an example of what happens when we violate the DRY Principle,\n",
      "so let's fix it now:"
     ]
    },
    {
     "cell_type": "code",
     "collapsed": false,
     "input": [
      "test_string = 'RGRGRRGG' # with the right number of characters\n",
      "color_from_string(test_row, test_string)\n",
      "test_row.show()"
     ],
     "language": "python",
     "metadata": {},
     "outputs": [
      {
       "output_type": "stream",
       "stream": "stdout",
       "text": [
        "*** x is 0\n",
        "*** x is 1\n",
        "*** x is 2\n",
        "*** x is 3\n",
        "*** x is 4\n",
        "*** x is 5\n",
        "*** x is 6\n",
        "*** x is 7\n"
       ]
      },
      {
       "html": [
        "<style type=\"text/css\">table.blockgrid {border: none;} .blockgrid tr {border: none;} .blockgrid td {padding: 0px;} #blocks3a6890ad-0615-4ece-aa54-dd1dc82b26bf td {border: 1px solid white;}</style><table id=\"blocks3a6890ad-0615-4ece-aa54-dd1dc82b26bf\" class=\"blockgrid\"><tbody><tr><td title=\"Index: [0, 0]&#10;Color: (255, 0, 0)\" style=\"width: 20px; height: 20px;background-color: rgb(255, 0, 0);\"></td><td title=\"Index: [1, 0]&#10;Color: (0, 255, 0)\" style=\"width: 20px; height: 20px;background-color: rgb(0, 255, 0);\"></td><td title=\"Index: [2, 0]&#10;Color: (255, 0, 0)\" style=\"width: 20px; height: 20px;background-color: rgb(255, 0, 0);\"></td><td title=\"Index: [3, 0]&#10;Color: (0, 255, 0)\" style=\"width: 20px; height: 20px;background-color: rgb(0, 255, 0);\"></td><td title=\"Index: [4, 0]&#10;Color: (255, 0, 0)\" style=\"width: 20px; height: 20px;background-color: rgb(255, 0, 0);\"></td><td title=\"Index: [5, 0]&#10;Color: (255, 0, 0)\" style=\"width: 20px; height: 20px;background-color: rgb(255, 0, 0);\"></td><td title=\"Index: [6, 0]&#10;Color: (0, 255, 0)\" style=\"width: 20px; height: 20px;background-color: rgb(0, 255, 0);\"></td><td title=\"Index: [7, 0]&#10;Color: (0, 255, 0)\" style=\"width: 20px; height: 20px;background-color: rgb(0, 255, 0);\"></td></tr></tbody></table>"
       ],
       "metadata": {},
       "output_type": "display_data",
       "text": [
        "<IPython.core.display.HTML at 0x102c4a9d0>"
       ]
      }
     ],
     "prompt_number": 47
    },
    {
     "cell_type": "markdown",
     "metadata": {},
     "source": [
      "That's better&mdash;but\n",
      "since there's no guarantee we won't make the same mistake again,\n",
      "we really ought to modify the function to detect that problem too.\n",
      "(We also ought to take out the `print` statement.)\n",
      "We could add another assertion to check the length of the data string."
     ]
    },
    {
     "cell_type": "code",
     "collapsed": false,
     "input": [
      "def color_from_string(grid, data):\n",
      "    assert grid.width == len(data), 'Grid and string lengths do not match'\n",
      "    for x in range(grid.width):\n",
      "        assert data[x] in 'GR', 'Unknown character in data string'\n",
      "        if data[x] == 'R':\n",
      "            grid[x, 0] = colors.RED\n",
      "        else:\n",
      "            grid[x, 0] = colors.GREEN"
     ],
     "language": "python",
     "metadata": {},
     "outputs": [],
     "prompt_number": 84
    },
    {
     "cell_type": "markdown",
     "metadata": {},
     "source": [
      "Let's test it:"
     ]
    },
    {
     "cell_type": "code",
     "collapsed": false,
     "input": [
      "should_work = ImageGrid(4, 1)\n",
      "color_from_string(should_work, 'RGRG')\n",
      "should_work.show()"
     ],
     "language": "python",
     "metadata": {},
     "outputs": [
      {
       "html": [
        "<style type=\"text/css\">table.blockgrid {border: none;} .blockgrid tr {border: none;} .blockgrid td {padding: 0px;} #blockse5fa6912-fee7-4d0e-b709-2702b46da3ea td {border: 1px solid white;}</style><table id=\"blockse5fa6912-fee7-4d0e-b709-2702b46da3ea\" class=\"blockgrid\"><tbody><tr><td title=\"Index: [0, 0]&#10;Color: (255, 0, 0)\" style=\"width: 20px; height: 20px;background-color: rgb(255, 0, 0);\"></td><td title=\"Index: [1, 0]&#10;Color: (0, 255, 0)\" style=\"width: 20px; height: 20px;background-color: rgb(0, 255, 0);\"></td><td title=\"Index: [2, 0]&#10;Color: (255, 0, 0)\" style=\"width: 20px; height: 20px;background-color: rgb(255, 0, 0);\"></td><td title=\"Index: [3, 0]&#10;Color: (0, 255, 0)\" style=\"width: 20px; height: 20px;background-color: rgb(0, 255, 0);\"></td></tr></tbody></table>"
       ],
       "metadata": {},
       "output_type": "display_data",
       "text": [
        "<IPython.core.display.HTML at 0x102e76a90>"
       ]
      }
     ],
     "prompt_number": 85
    },
    {
     "cell_type": "markdown",
     "metadata": {},
     "source": [
      "and:"
     ]
    },
    {
     "cell_type": "code",
     "collapsed": false,
     "input": [
      "should_fail = ImageGrid(4, 1)\n",
      "color_from_string(should_fail, 'RGRGRGRG') # string is too long"
     ],
     "language": "python",
     "metadata": {},
     "outputs": [
      {
       "ename": "AssertionError",
       "evalue": "Grid and string lengths do not match",
       "output_type": "pyerr",
       "traceback": [
        "\u001b[0;31m---------------------------------------------------------------------------\u001b[0m\n\u001b[0;31mAssertionError\u001b[0m                            Traceback (most recent call last)",
        "\u001b[0;32m<ipython-input-86-3ccc2222584d>\u001b[0m in \u001b[0;36m<module>\u001b[0;34m()\u001b[0m\n\u001b[1;32m      1\u001b[0m \u001b[0mshould_fail\u001b[0m \u001b[0;34m=\u001b[0m \u001b[0mImageGrid\u001b[0m\u001b[0;34m(\u001b[0m\u001b[0;36m4\u001b[0m\u001b[0;34m,\u001b[0m \u001b[0;36m1\u001b[0m\u001b[0;34m)\u001b[0m\u001b[0;34m\u001b[0m\u001b[0m\n\u001b[0;32m----> 2\u001b[0;31m \u001b[0mcolor_from_string\u001b[0m\u001b[0;34m(\u001b[0m\u001b[0mshould_fail\u001b[0m\u001b[0;34m,\u001b[0m \u001b[0;34m'RGRGRGRG'\u001b[0m\u001b[0;34m)\u001b[0m \u001b[0;31m# string is too long\u001b[0m\u001b[0;34m\u001b[0m\u001b[0m\n\u001b[0m",
        "\u001b[0;32m<ipython-input-84-30e31a9c70d0>\u001b[0m in \u001b[0;36mcolor_from_string\u001b[0;34m(grid, data)\u001b[0m\n\u001b[1;32m      1\u001b[0m \u001b[0;32mdef\u001b[0m \u001b[0mcolor_from_string\u001b[0m\u001b[0;34m(\u001b[0m\u001b[0mgrid\u001b[0m\u001b[0;34m,\u001b[0m \u001b[0mdata\u001b[0m\u001b[0;34m)\u001b[0m\u001b[0;34m:\u001b[0m\u001b[0;34m\u001b[0m\u001b[0m\n\u001b[0;32m----> 2\u001b[0;31m     \u001b[0;32massert\u001b[0m \u001b[0mgrid\u001b[0m\u001b[0;34m.\u001b[0m\u001b[0mwidth\u001b[0m \u001b[0;34m==\u001b[0m \u001b[0mlen\u001b[0m\u001b[0;34m(\u001b[0m\u001b[0mdata\u001b[0m\u001b[0;34m)\u001b[0m\u001b[0;34m,\u001b[0m \u001b[0;34m'Grid and string lengths do not match'\u001b[0m\u001b[0;34m\u001b[0m\u001b[0m\n\u001b[0m\u001b[1;32m      3\u001b[0m     \u001b[0;32mfor\u001b[0m \u001b[0mx\u001b[0m \u001b[0;32min\u001b[0m \u001b[0mrange\u001b[0m\u001b[0;34m(\u001b[0m\u001b[0mgrid\u001b[0m\u001b[0;34m.\u001b[0m\u001b[0mwidth\u001b[0m\u001b[0;34m)\u001b[0m\u001b[0;34m:\u001b[0m\u001b[0;34m\u001b[0m\u001b[0m\n\u001b[1;32m      4\u001b[0m         \u001b[0;32massert\u001b[0m \u001b[0mdata\u001b[0m\u001b[0;34m[\u001b[0m\u001b[0mx\u001b[0m\u001b[0;34m]\u001b[0m \u001b[0;32min\u001b[0m \u001b[0;34m'GR'\u001b[0m\u001b[0;34m,\u001b[0m \u001b[0;34m'Unknown character in data string'\u001b[0m\u001b[0;34m\u001b[0m\u001b[0m\n\u001b[1;32m      5\u001b[0m         \u001b[0;32mif\u001b[0m \u001b[0mdata\u001b[0m\u001b[0;34m[\u001b[0m\u001b[0mx\u001b[0m\u001b[0;34m]\u001b[0m \u001b[0;34m==\u001b[0m \u001b[0;34m'R'\u001b[0m\u001b[0;34m:\u001b[0m\u001b[0;34m\u001b[0m\u001b[0m\n",
        "\u001b[0;31mAssertionError\u001b[0m: Grid and string lengths do not match"
       ]
      }
     ],
     "prompt_number": 86
    },
    {
     "cell_type": "markdown",
     "metadata": {},
     "source": [
      "Excellent:\n",
      "as strange as it may sound,\n",
      "the function is failing as desired."
     ]
    },
    {
     "cell_type": "markdown",
     "metadata": {},
     "source": [
      "##Documenting Functions"
     ]
    },
    {
     "cell_type": "markdown",
     "metadata": {},
     "source": [
      "The name `color_from_string` may seem obvious to us right now,\n",
      "but when we revisit this code in six weeks,\n",
      "we might easily think it means \"convert a string to a color\".\n",
      "Let's add a *docstring*\n",
      "(documentation string)\n",
      "to the function:"
     ]
    },
    {
     "cell_type": "code",
     "collapsed": false,
     "input": [
      "def color_from_string(grid, data):\n",
      "    \"\"\"Color grid cells red and green according to 'R' and 'G' in data.\n",
      "    \"\"\"\n",
      "    assert grid.width == len(data), 'Grid and string lengths do not match'\n",
      "    for x in range(grid.width):\n",
      "        assert data[x] in 'GR', 'Unknown character in data string'\n",
      "        if data[x] == 'R':\n",
      "            grid[x, 0] = colors.RED\n",
      "        else:\n",
      "            grid[x, 0] = colors.GREEN"
     ],
     "language": "python",
     "metadata": {},
     "outputs": [],
     "prompt_number": 1
    },
    {
     "cell_type": "markdown",
     "metadata": {},
     "source": [
      "We use a docstring rather than a comment because\n",
      "docstrings are what `help` displays:"
     ]
    },
    {
     "cell_type": "code",
     "collapsed": false,
     "input": [
      "help(color_from_string)"
     ],
     "language": "python",
     "metadata": {},
     "outputs": [
      {
       "output_type": "stream",
       "stream": "stdout",
       "text": [
        "Help on function color_from_string in module __main__:\n",
        "\n",
        "color_from_string(grid, data)\n",
        "    Color grid cells red and green according to 'R' and 'G' in data.\n",
        "\n"
       ]
      }
     ],
     "prompt_number": 125
    },
    {
     "cell_type": "heading",
     "level": 2,
     "metadata": {},
     "source": [
      "String Formatting"
     ]
    },
    {
     "cell_type": "markdown",
     "metadata": {},
     "source": [
      "To end this lesson,\n",
      "let's try to make our error messages a little more helpful.\n",
      "After all,\n",
      "few things are as frustrating as being told that something is wrong,\n",
      "but not being told what.\n",
      "We'll start by inserting a few strings into another string:"
     ]
    },
    {
     "cell_type": "code",
     "collapsed": false,
     "input": [
      "print '{0} and {1} shared the Nobel Prize in 1947'.format('Gerty Cori', 'Carl Cori')"
     ],
     "language": "python",
     "metadata": {},
     "outputs": [
      {
       "output_type": "stream",
       "stream": "stdout",
       "text": [
        "Gerty Cori and Carl Cori shared the Nobel Prize in 1947\n"
       ]
      }
     ],
     "prompt_number": 126
    },
    {
     "cell_type": "markdown",
     "metadata": {},
     "source": [
      "As you can probably infer,\n",
      "strings have a method called `format`\n",
      "that can be given any number of parameters.\n",
      "These parameters are *interpolated*\n",
      "wherever the markers `{0}`, `{1}`, and so on appear.\n",
      "It's OK to use a value several times:"
     ]
    },
    {
     "cell_type": "code",
     "collapsed": false,
     "input": [
      "print '{0} is the same as {0}'.format('this')"
     ],
     "language": "python",
     "metadata": {},
     "outputs": [
      {
       "output_type": "stream",
       "stream": "stdout",
       "text": [
        "this is the same as this\n"
       ]
      }
     ],
     "prompt_number": 127
    },
    {
     "cell_type": "markdown",
     "metadata": {},
     "source": [
      "and we can provide extra information to format numbers and many (many) other things:"
     ]
    },
    {
     "cell_type": "code",
     "collapsed": false,
     "input": [
      "print 'Four digits, two after the decimal point: {0:4.2f}'.format(3.14159)"
     ],
     "language": "python",
     "metadata": {},
     "outputs": [
      {
       "output_type": "stream",
       "stream": "stdout",
       "text": [
        "Four digits, two after the decimal point: 3.14\n"
       ]
      }
     ],
     "prompt_number": 128
    },
    {
     "cell_type": "markdown",
     "metadata": {},
     "source": [
      "What we *can't* do is change the original string:"
     ]
    },
    {
     "cell_type": "code",
     "collapsed": false,
     "input": [
      "mass = 46.5\n",
      "name = 'Lyell'\n",
      "template = 'Mass {0:4e} and name \"{1:^20}\"'\n",
      "result = template.format(mass, name)\n",
      "print 'result after formatting:', result\n",
      "print 'template after formatting:', template"
     ],
     "language": "python",
     "metadata": {},
     "outputs": [
      {
       "output_type": "stream",
       "stream": "stdout",
       "text": [
        "result after formatting: Mass 4.650000e+01 and name \"       Lyell        \"\n",
        "template after formatting: Mass {0:4e} and name \"{1:^20}\"\n"
       ]
      }
     ],
     "prompt_number": 129
    },
    {
     "cell_type": "markdown",
     "metadata": {},
     "source": [
      "The reason is that strings are *immutable*,\n",
      "i.e.,\n",
      "they cannot be changed after they have been created.\n",
      "Numbers are also immutable:\n",
      "we can't assign a new value to 2 or 3.14159\n",
      "(although we can assign these values to variables,\n",
      "then change those variables).\n",
      "We will meet some mutable data types in the [next lesson](python-4-files-lists.ipynb);\n",
      "for now,\n",
      "we'll use what we have learned about string formatting\n",
      "to make our error messages more readable:"
     ]
    },
    {
     "cell_type": "code",
     "collapsed": false,
     "input": [
      "def color_from_string(grid, data):\n",
      "    \"\"\"Color grid cells red and green according to 'R' and 'G' in data.\n",
      "    \"\"\"\n",
      "    assert grid.width == len(data), \\\n",
      "        'Grid and string lengths do not match: {0} != {1}'.format(grid.width, len(data))\n",
      "    for x in range(grid.width):\n",
      "        assert data[x] in 'GR', \\\n",
      "            'Unknown character in data string: \"{0}\"'.format(data[x])\n",
      "        if data[x] == 'R':\n",
      "            grid[x, 0] = colors.RED\n",
      "        else:\n",
      "            grid[x, 0] = colors.GREEN"
     ],
     "language": "python",
     "metadata": {},
     "outputs": [],
     "prompt_number": 3
    },
    {
     "cell_type": "markdown",
     "metadata": {},
     "source": [
      "Another element of code readability is avoiding very long lines of code.\n",
      "As a guide,\n",
      "lines should be no longer than 80 to 100 characters.\n",
      "The `\\` in the `assert` statements tells Python explicitly\n",
      "that the statement continues on the following line.\n",
      "Python also understand implicit line continuations when things are enclosed\n",
      "in parentheses.\n",
      "\n",
      "Let's try our revised function:"
     ]
    },
    {
     "cell_type": "code",
     "collapsed": false,
     "input": [
      "test_case = ImageGrid(4, 1)\n",
      "color_from_string(test_case, 'R') # wrong length"
     ],
     "language": "python",
     "metadata": {},
     "outputs": [
      {
       "ename": "AssertionError",
       "evalue": "Grid and string lengths do not match: 4 != 1",
       "output_type": "pyerr",
       "traceback": [
        "\u001b[0;31m---------------------------------------------------------------------------\u001b[0m\n\u001b[0;31mAssertionError\u001b[0m                            Traceback (most recent call last)",
        "\u001b[0;32m<ipython-input-8-05398559e78a>\u001b[0m in \u001b[0;36m<module>\u001b[0;34m()\u001b[0m\n\u001b[1;32m      1\u001b[0m \u001b[0mtest_case\u001b[0m \u001b[0;34m=\u001b[0m \u001b[0mImageGrid\u001b[0m\u001b[0;34m(\u001b[0m\u001b[0;36m4\u001b[0m\u001b[0;34m,\u001b[0m \u001b[0;36m1\u001b[0m\u001b[0;34m)\u001b[0m\u001b[0;34m\u001b[0m\u001b[0m\n\u001b[0;32m----> 2\u001b[0;31m \u001b[0mcolor_from_string\u001b[0m\u001b[0;34m(\u001b[0m\u001b[0mtest_case\u001b[0m\u001b[0;34m,\u001b[0m \u001b[0;34m'R'\u001b[0m\u001b[0;34m)\u001b[0m \u001b[0;31m# wrong length\u001b[0m\u001b[0;34m\u001b[0m\u001b[0m\n\u001b[0m",
        "\u001b[0;32m<ipython-input-3-524f05c7ddc7>\u001b[0m in \u001b[0;36mcolor_from_string\u001b[0;34m(grid, data)\u001b[0m\n\u001b[1;32m      2\u001b[0m     \"\"\"Color grid cells red and green according to 'R' and 'G' in data.\n\u001b[1;32m      3\u001b[0m     \"\"\"\n\u001b[0;32m----> 4\u001b[0;31m     \u001b[0;32massert\u001b[0m \u001b[0mgrid\u001b[0m\u001b[0;34m.\u001b[0m\u001b[0mwidth\u001b[0m \u001b[0;34m==\u001b[0m \u001b[0mlen\u001b[0m\u001b[0;34m(\u001b[0m\u001b[0mdata\u001b[0m\u001b[0;34m)\u001b[0m\u001b[0;34m,\u001b[0m         \u001b[0;34m'Grid and string lengths do not match: {0} != {1}'\u001b[0m\u001b[0;34m.\u001b[0m\u001b[0mformat\u001b[0m\u001b[0;34m(\u001b[0m\u001b[0mgrid\u001b[0m\u001b[0;34m.\u001b[0m\u001b[0mwidth\u001b[0m\u001b[0;34m,\u001b[0m \u001b[0mlen\u001b[0m\u001b[0;34m(\u001b[0m\u001b[0mdata\u001b[0m\u001b[0;34m)\u001b[0m\u001b[0;34m)\u001b[0m\u001b[0;34m\u001b[0m\u001b[0m\n\u001b[0m\u001b[1;32m      5\u001b[0m     \u001b[0;32mfor\u001b[0m \u001b[0mx\u001b[0m \u001b[0;32min\u001b[0m \u001b[0mrange\u001b[0m\u001b[0;34m(\u001b[0m\u001b[0mgrid\u001b[0m\u001b[0;34m.\u001b[0m\u001b[0mwidth\u001b[0m\u001b[0;34m)\u001b[0m\u001b[0;34m:\u001b[0m\u001b[0;34m\u001b[0m\u001b[0m\n\u001b[1;32m      6\u001b[0m         \u001b[0;32massert\u001b[0m \u001b[0mdata\u001b[0m\u001b[0;34m[\u001b[0m\u001b[0mx\u001b[0m\u001b[0;34m]\u001b[0m \u001b[0;32min\u001b[0m \u001b[0;34m'GR'\u001b[0m\u001b[0;34m,\u001b[0m             \u001b[0;34m'Unknown character in data string: \"{0}\"'\u001b[0m\u001b[0;34m.\u001b[0m\u001b[0mformat\u001b[0m\u001b[0;34m(\u001b[0m\u001b[0mdata\u001b[0m\u001b[0;34m[\u001b[0m\u001b[0mx\u001b[0m\u001b[0;34m]\u001b[0m\u001b[0;34m)\u001b[0m\u001b[0;34m\u001b[0m\u001b[0m\n",
        "\u001b[0;31mAssertionError\u001b[0m: Grid and string lengths do not match: 4 != 1"
       ]
      }
     ],
     "prompt_number": 8
    },
    {
     "cell_type": "markdown",
     "metadata": {},
     "source": [
      "and:"
     ]
    },
    {
     "cell_type": "code",
     "collapsed": false,
     "input": [
      "color_from_string(test_case, 'PPPP')"
     ],
     "language": "python",
     "metadata": {},
     "outputs": [
      {
       "ename": "AssertionError",
       "evalue": "Unknown character in data string: \"P\"",
       "output_type": "pyerr",
       "traceback": [
        "\u001b[0;31m---------------------------------------------------------------------------\u001b[0m\n\u001b[0;31mAssertionError\u001b[0m                            Traceback (most recent call last)",
        "\u001b[0;32m<ipython-input-9-c132ae306847>\u001b[0m in \u001b[0;36m<module>\u001b[0;34m()\u001b[0m\n\u001b[0;32m----> 1\u001b[0;31m \u001b[0mcolor_from_string\u001b[0m\u001b[0;34m(\u001b[0m\u001b[0mtest_case\u001b[0m\u001b[0;34m,\u001b[0m \u001b[0;34m'PPPP'\u001b[0m\u001b[0;34m)\u001b[0m\u001b[0;34m\u001b[0m\u001b[0m\n\u001b[0m",
        "\u001b[0;32m<ipython-input-3-524f05c7ddc7>\u001b[0m in \u001b[0;36mcolor_from_string\u001b[0;34m(grid, data)\u001b[0m\n\u001b[1;32m      4\u001b[0m     \u001b[0;32massert\u001b[0m \u001b[0mgrid\u001b[0m\u001b[0;34m.\u001b[0m\u001b[0mwidth\u001b[0m \u001b[0;34m==\u001b[0m \u001b[0mlen\u001b[0m\u001b[0;34m(\u001b[0m\u001b[0mdata\u001b[0m\u001b[0;34m)\u001b[0m\u001b[0;34m,\u001b[0m         \u001b[0;34m'Grid and string lengths do not match: {0} != {1}'\u001b[0m\u001b[0;34m.\u001b[0m\u001b[0mformat\u001b[0m\u001b[0;34m(\u001b[0m\u001b[0mgrid\u001b[0m\u001b[0;34m.\u001b[0m\u001b[0mwidth\u001b[0m\u001b[0;34m,\u001b[0m \u001b[0mlen\u001b[0m\u001b[0;34m(\u001b[0m\u001b[0mdata\u001b[0m\u001b[0;34m)\u001b[0m\u001b[0;34m)\u001b[0m\u001b[0;34m\u001b[0m\u001b[0m\n\u001b[1;32m      5\u001b[0m     \u001b[0;32mfor\u001b[0m \u001b[0mx\u001b[0m \u001b[0;32min\u001b[0m \u001b[0mrange\u001b[0m\u001b[0;34m(\u001b[0m\u001b[0mgrid\u001b[0m\u001b[0;34m.\u001b[0m\u001b[0mwidth\u001b[0m\u001b[0;34m)\u001b[0m\u001b[0;34m:\u001b[0m\u001b[0;34m\u001b[0m\u001b[0m\n\u001b[0;32m----> 6\u001b[0;31m         \u001b[0;32massert\u001b[0m \u001b[0mdata\u001b[0m\u001b[0;34m[\u001b[0m\u001b[0mx\u001b[0m\u001b[0;34m]\u001b[0m \u001b[0;32min\u001b[0m \u001b[0;34m'GR'\u001b[0m\u001b[0;34m,\u001b[0m             \u001b[0;34m'Unknown character in data string: \"{0}\"'\u001b[0m\u001b[0;34m.\u001b[0m\u001b[0mformat\u001b[0m\u001b[0;34m(\u001b[0m\u001b[0mdata\u001b[0m\u001b[0;34m[\u001b[0m\u001b[0mx\u001b[0m\u001b[0;34m]\u001b[0m\u001b[0;34m)\u001b[0m\u001b[0;34m\u001b[0m\u001b[0m\n\u001b[0m\u001b[1;32m      7\u001b[0m         \u001b[0;32mif\u001b[0m \u001b[0mdata\u001b[0m\u001b[0;34m[\u001b[0m\u001b[0mx\u001b[0m\u001b[0;34m]\u001b[0m \u001b[0;34m==\u001b[0m \u001b[0;34m'R'\u001b[0m\u001b[0;34m:\u001b[0m\u001b[0;34m\u001b[0m\u001b[0m\n\u001b[1;32m      8\u001b[0m             \u001b[0mgrid\u001b[0m\u001b[0;34m[\u001b[0m\u001b[0mx\u001b[0m\u001b[0;34m,\u001b[0m \u001b[0;36m0\u001b[0m\u001b[0;34m]\u001b[0m \u001b[0;34m=\u001b[0m \u001b[0mcolors\u001b[0m\u001b[0;34m.\u001b[0m\u001b[0mRED\u001b[0m\u001b[0;34m\u001b[0m\u001b[0m\n",
        "\u001b[0;31mAssertionError\u001b[0m: Unknown character in data string: \"P\""
       ]
      }
     ],
     "prompt_number": 9
    },
    {
     "cell_type": "heading",
     "level": 2,
     "metadata": {},
     "source": [
      "Key Points"
     ]
    },
    {
     "cell_type": "markdown",
     "metadata": {},
     "source": [
      "- Use `if`/`elif`/`else` to make choices in programs.\n",
      "- Use `assert` to embed self-checks in programs.\n",
      "- Add docstrings to functions to provide interactive help.\n",
      "- Use `string.format` to create nicely-formatted output."
     ]
    }
   ],
   "metadata": {}
  }
 ]
}