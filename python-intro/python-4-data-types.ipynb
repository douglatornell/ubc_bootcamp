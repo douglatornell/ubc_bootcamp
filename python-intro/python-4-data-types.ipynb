{
 "metadata": {
  "name": ""
 },
 "nbformat": 3,
 "nbformat_minor": 0,
 "worksheets": [
  {
   "cells": [
    {
     "cell_type": "markdown",
     "metadata": {},
     "source": [
      "#Intro to Python - Compound Data Types"
     ]
    },
    {
     "cell_type": "markdown",
     "metadata": {},
     "source": [
      "##Learning Goals\n",
      "- Use Python `list`, `tuple`, `set`, and `dict` compound data types to store and manipulate data.\n",
      "- Explain the appropriate uses and limitations of lists, tuples, sets, and dictionaries.\n",
      "- Explain how Python associates variable names with values and objects."
     ]
    },
    {
     "cell_type": "markdown",
     "metadata": {},
     "source": [
      "Some of the material in this notebook is based on lecture materials by Milad Fatenejad, Joshua R. Smith, and Will Trimble."
     ]
    },
    {
     "cell_type": "markdown",
     "metadata": {},
     "source": [
      "##Data Structures\n",
      "\n",
      "In addition to the string, integer, and float data types that we've already met\n",
      "Python and its standard libary include a variety of higher level data types.\n",
      "They are called compound data types because they provide ways of creating collections\n",
      "of other data types.\n",
      "\n",
      "The most commonly used are the `list` and the dictionary\n",
      "(also know as `dict`),\n",
      "but we'll also touch on the `tuple` and `set` data types."
     ]
    },
    {
     "cell_type": "markdown",
     "metadata": {},
     "source": [
      "#Lists\n",
      "\n",
      "A list is an ordered, \n",
      "indexable collection of data. \n",
      "Let's say you have collected some voltage and current data that looks like this:\n",
      "\n",
      "```\n",
      "voltage:\n",
      "-2.0\n",
      "-1.0\n",
      "0.0\n",
      "1.0\n",
      "2.0\n",
      "\n",
      "current:\n",
      "-1.0\n",
      "-0.5\n",
      "0.0\n",
      "0.5\n",
      "1.0\n",
      "```\n",
      "\n",
      "You could put those data into lists like:"
     ]
    },
    {
     "cell_type": "code",
     "collapsed": false,
     "input": [
      "voltages = [-2.0, -1.0, 0.0, 1.0, 2.0]\n",
      "currents = [-1.0, -0.5, 0.0, 0.5, 1.0]"
     ],
     "language": "python",
     "metadata": {},
     "outputs": [],
     "prompt_number": 9
    },
    {
     "cell_type": "markdown",
     "metadata": {},
     "source": [
      "You can interrogate a variable's type with the built-in `type()` function:"
     ]
    },
    {
     "cell_type": "code",
     "collapsed": false,
     "input": [
      "type(voltages)"
     ],
     "language": "python",
     "metadata": {},
     "outputs": [
      {
       "metadata": {},
       "output_type": "pyout",
       "prompt_number": 10,
       "text": [
        "list"
       ]
      }
     ],
     "prompt_number": 10
    },
    {
     "cell_type": "markdown",
     "metadata": {},
     "source": [
      "As we learned earlier,\n",
      "Python uses zero-based indexing.\n",
      "We've also already seen square brackets used to index collections\n",
      "and `list` objects are no exception:"
     ]
    },
    {
     "cell_type": "code",
     "collapsed": false,
     "input": [
      "print '1st voltage:', voltages[0]\n",
      "print '3rd voltage:', voltages[2]"
     ],
     "language": "python",
     "metadata": {},
     "outputs": [
      {
       "output_type": "stream",
       "stream": "stdout",
       "text": [
        "1st voltage: -2.0\n",
        "3rd voltage: 0.0\n"
       ]
      }
     ],
     "prompt_number": 11
    },
    {
     "cell_type": "markdown",
     "metadata": {},
     "source": [
      "Negative indices count backward from the end of the list:"
     ]
    },
    {
     "cell_type": "code",
     "collapsed": false,
     "input": [
      "print 'last voltage:', voltages[-1]\n",
      "print '2nd last voltage:', voltages[-2]"
     ],
     "language": "python",
     "metadata": {},
     "outputs": [
      {
       "output_type": "stream",
       "stream": "stdout",
       "text": [
        "last voltage: 2.0\n",
        "2nd last voltage: 1.0\n"
       ]
      }
     ],
     "prompt_number": 12
    },
    {
     "cell_type": "markdown",
     "metadata": {},
     "source": [
      "You can \"slice\" items from within a list. \n",
      "Let's say we wanted the second through fourth items from `voltages`:"
     ]
    },
    {
     "cell_type": "code",
     "collapsed": false,
     "input": [
      "voltages[1:4]"
     ],
     "language": "python",
     "metadata": {},
     "outputs": [
      {
       "metadata": {},
       "output_type": "pyout",
       "prompt_number": 13,
       "text": [
        "[-1.0, 0.0, 1.0]"
       ]
      }
     ],
     "prompt_number": 13
    },
    {
     "cell_type": "markdown",
     "metadata": {},
     "source": [
      "Or from the third item to the end:"
     ]
    },
    {
     "cell_type": "code",
     "collapsed": false,
     "input": [
      "voltages[2:]"
     ],
     "language": "python",
     "metadata": {},
     "outputs": [
      {
       "metadata": {},
       "output_type": "pyout",
       "prompt_number": 14,
       "text": [
        "[0.0, 1.0, 2.0]"
       ]
      }
     ],
     "prompt_number": 14
    },
    {
     "cell_type": "markdown",
     "metadata": {},
     "source": [
      "**Exercise:**\n",
      "Get a slice from `voltages` that contains all except the last 2 items."
     ]
    },
    {
     "cell_type": "code",
     "collapsed": false,
     "input": [],
     "language": "python",
     "metadata": {},
     "outputs": [],
     "prompt_number": 15
    },
    {
     "cell_type": "markdown",
     "metadata": {},
     "source": [
      "###Append and Extend\n",
      "\n",
      "Like strings,\n",
      "lists have methods that operate on them:"
     ]
    },
    {
     "cell_type": "code",
     "collapsed": false,
     "input": [
      "print dir(list)"
     ],
     "language": "python",
     "metadata": {},
     "outputs": [
      {
       "output_type": "stream",
       "stream": "stdout",
       "text": [
        "['__add__', '__class__', '__contains__', '__delattr__', '__delitem__', '__delslice__', '__doc__', '__eq__', '__format__', '__ge__', '__getattribute__', '__getitem__', '__getslice__', '__gt__', '__hash__', '__iadd__', '__imul__', '__init__', '__iter__', '__le__', '__len__', '__lt__', '__mul__', '__ne__', '__new__', '__reduce__', '__reduce_ex__', '__repr__', '__reversed__', '__rmul__', '__setattr__', '__setitem__', '__setslice__', '__sizeof__', '__str__', '__subclasshook__', 'append', 'count', 'extend', 'index', 'insert', 'pop', 'remove', 'reverse', 'sort']\n"
       ]
      }
     ],
     "prompt_number": 16
    },
    {
     "cell_type": "markdown",
     "metadata": {},
     "source": [
      "Lets say we want to add the following data to the ends of both of our lists.\n",
      "\n",
      "```\n",
      "voltage:\n",
      "3.0\n",
      "4.0\n",
      "\n",
      "current:\n",
      "1.5\n",
      "2.0\n",
      "```\n",
      "\n",
      "If you want to append items to the end of a list, \n",
      "use the append method:"
     ]
    },
    {
     "cell_type": "code",
     "collapsed": false,
     "input": [
      "voltages.append(3.)\n",
      "voltages.append(4.)\n",
      "voltages"
     ],
     "language": "python",
     "metadata": {},
     "outputs": [
      {
       "metadata": {},
       "output_type": "pyout",
       "prompt_number": 17,
       "text": [
        "[-2.0, -1.0, 0.0, 1.0, 2.0, 3.0, 4.0]"
       ]
      }
     ],
     "prompt_number": 17
    },
    {
     "cell_type": "markdown",
     "metadata": {},
     "source": [
      "That approach might be tedious in certain cases.\n",
      "If you want to concatenate a list onto the end of another one, use extend:"
     ]
    },
    {
     "cell_type": "code",
     "collapsed": false,
     "input": [
      "currents.extend([1.5, 2.0])\n",
      "currents"
     ],
     "language": "python",
     "metadata": {},
     "outputs": [
      {
       "metadata": {},
       "output_type": "pyout",
       "prompt_number": 19,
       "text": [
        "[-1.0, -0.5, 0.0, 0.5, 1.0, 1.5, 2.0, 1.5, 2.0]"
       ]
      }
     ],
     "prompt_number": 19
    },
    {
     "cell_type": "markdown",
     "metadata": {},
     "source": [
      "###Length of Lists\n",
      "\n",
      "The built-in `len()` function works for lists:"
     ]
    },
    {
     "cell_type": "code",
     "collapsed": false,
     "input": [
      "len(currents)"
     ],
     "language": "python",
     "metadata": {},
     "outputs": [
      {
       "metadata": {},
       "output_type": "pyout",
       "prompt_number": 20,
       "text": [
        "9"
       ]
      }
     ],
     "prompt_number": 20
    },
    {
     "cell_type": "markdown",
     "metadata": {},
     "source": [
      "**Exercise:**\n",
      "Use a list and 2 built-in functions to calculate the mean of the numbers 2, 3, and 10."
     ]
    },
    {
     "cell_type": "code",
     "collapsed": false,
     "input": [],
     "language": "python",
     "metadata": {},
     "outputs": []
    },
    {
     "cell_type": "markdown",
     "metadata": {},
     "source": [
      "##Heterogenous Data\n",
      "\n",
      "List can contain mixtures of objects,\n",
      "including other lists:"
     ]
    },
    {
     "cell_type": "code",
     "collapsed": false,
     "input": [
      "data_list = [\n",
      "    \"experiment: current vs. voltage\",\n",
      "    \"run\", 47,\n",
      "    \"temperature\", 372.756,\n",
      "    \"current\", [-1.0, -0.5, 0.0, 0.5, 1.0],\n",
      "    \"voltage\", [-2.0, -1.0, 0.0, 1.0, 2.0],\n",
      "]\n",
      "data_list"
     ],
     "language": "python",
     "metadata": {},
     "outputs": [
      {
       "metadata": {},
       "output_type": "pyout",
       "prompt_number": 35,
       "text": [
        "['experiment: current vs. voltage',\n",
        " 'run',\n",
        " 47,\n",
        " 'temperature',\n",
        " 372.756,\n",
        " 'current',\n",
        " [-1.0, -0.5, 0.0, 0.5, 1.0],\n",
        " 'voltage',\n",
        " [-2.0, -1.0, 0.0, 1.0, 2.0]]"
       ]
      }
     ],
     "prompt_number": 35
    },
    {
     "cell_type": "markdown",
     "metadata": {},
     "source": [
      "# Assigment, Names, and Values\n",
      "\n",
      "Something that will cause you headaches in the future is how Python deals\n",
      "with assignment of names to values,\n",
      "in particular,\n",
      "when we assign one variable to another. \n",
      "When you set a variable equal to another, \n",
      "both variable names point to the same object. \n",
      "Changing the first one ends up changing the second. \n",
      "Be careful about this fact."
     ]
    },
    {
     "cell_type": "code",
     "collapsed": false,
     "input": [
      "a = [1, 2]\n",
      "b = a\n",
      "a.append(10)\n",
      "b"
     ],
     "language": "python",
     "metadata": {},
     "outputs": [
      {
       "metadata": {},
       "output_type": "pyout",
       "prompt_number": 24,
       "text": [
        "[1, 2, 10]"
       ]
      }
     ],
     "prompt_number": 24
    },
    {
     "cell_type": "markdown",
     "metadata": {},
     "source": [
      "See Ned Batchelder's \n",
      "[Facts and Myths About Python Names and Values](http://nedbatchelder.com/text/names.html) \n",
      "essay for a detailed explanation of this."
     ]
    },
    {
     "cell_type": "markdown",
     "metadata": {},
     "source": [
      "##Tuples\n",
      "\n",
      "Tuples are another of Python's basic compound data types that are almost\n",
      "like lists. \n",
      "The difference is that a tuple is immutable; \n",
      "once you set the data in it, \n",
      "the tuple cannot be changed. \n",
      "You define a tuple as follows."
     ]
    },
    {
     "cell_type": "code",
     "collapsed": false,
     "input": [
      "tup = (\"red\", \"white\", \"blue\")\n",
      "tup"
     ],
     "language": "python",
     "metadata": {},
     "outputs": [
      {
       "metadata": {},
       "output_type": "pyout",
       "prompt_number": 26,
       "text": [
        "('red', 'white', 'blue')"
       ]
      }
     ],
     "prompt_number": 26
    },
    {
     "cell_type": "code",
     "collapsed": false,
     "input": [
      "type(tup)"
     ],
     "language": "python",
     "metadata": {},
     "outputs": [
      {
       "metadata": {},
       "output_type": "pyout",
       "prompt_number": 27,
       "text": [
        "tuple"
       ]
      }
     ],
     "prompt_number": 27
    },
    {
     "cell_type": "markdown",
     "metadata": {},
     "source": [
      "You can slice and index the tuple exactly like you would a list. \n",
      "Because it is immutable,\n",
      "a tuple can be used as a key in a dictionary, \n",
      "whereas a list cannot,\n",
      "as we will see in a moment."
     ]
    },
    {
     "cell_type": "markdown",
     "metadata": {},
     "source": [
      "##Sets\n",
      "\n",
      "The Python set type is similar to the idea of a mathematical set: \n",
      "it is an unordered collection of unique things. \n",
      "Consider:"
     ]
    },
    {
     "cell_type": "code",
     "collapsed": false,
     "input": [
      "fruit = set([\"apple\", \"banana\", \"pear\", \"banana\"])  # You have to use a list to create a set.\n",
      "fruit"
     ],
     "language": "python",
     "metadata": {},
     "outputs": [
      {
       "metadata": {},
       "output_type": "pyout",
       "prompt_number": 29,
       "text": [
        "{'apple', 'banana', 'pear'}"
       ]
      }
     ],
     "prompt_number": 29
    },
    {
     "cell_type": "markdown",
     "metadata": {},
     "source": [
      "Since sets contain only unique items, there's only one banana in the set fruit.\n",
      "\n",
      "You can do things like \n",
      "intersections, unions, etc. \n",
      "on sets just like in math. \n",
      "Here's an example of an intersection of two sets \n",
      "(the common items in both sets)."
     ]
    },
    {
     "cell_type": "code",
     "collapsed": false,
     "input": [
      "bowl1 = set([\"apple\", \"banana\", \"pear\", \"peach\"])\n",
      "bowl2 = set([\"peach\", \"watermelon\", \"orange\", \"apple\"])\n",
      "set.intersection(bowl1, bowl2)"
     ],
     "language": "python",
     "metadata": {},
     "outputs": [
      {
       "metadata": {},
       "output_type": "pyout",
       "prompt_number": 30,
       "text": [
        "{'apple', 'peach'}"
       ]
      }
     ],
     "prompt_number": 30
    },
    {
     "cell_type": "markdown",
     "metadata": {},
     "source": [
      "Because sets are unordered collections,\n",
      "they don't support indexing or slicing."
     ]
    },
    {
     "cell_type": "markdown",
     "metadata": {},
     "source": [
      "## Dictionaries\n",
      "\n",
      "Recall how we created a list called `data` above\n",
      "that contained our current-voltage data and also some metadata. "
     ]
    },
    {
     "cell_type": "code",
     "collapsed": false,
     "input": [
      "data_list"
     ],
     "language": "python",
     "metadata": {},
     "outputs": [
      {
       "metadata": {},
       "output_type": "pyout",
       "prompt_number": 34,
       "text": [
        "['experiment: current vs. voltage',\n",
        " 'run',\n",
        " 47,\n",
        " 'temperature',\n",
        " 372.756,\n",
        " 'current',\n",
        " [-1.0, -0.5, 0.0, 0.5, 1.0],\n",
        " 'voltage',\n",
        " [-2.0, -1.0, 0.0, 1.0, 2.0]]"
       ]
      }
     ],
     "prompt_number": 34
    },
    {
     "cell_type": "markdown",
     "metadata": {},
     "source": [
      "That works, \n",
      "but the list type is not the optimal choice for that data model. \n",
      "The dictionary is a much better choice. \n",
      "A Python dictionary\n",
      "(also known as a `dict`)\n",
      "is a collection of key-value pairs. \n",
      "The key is a way to name the data, \n",
      "and the value is the data itself.\n",
      "Here's a way to create a dictionary that contains all the same data in our\n",
      "in a more usable way than a list."
     ]
    },
    {
     "cell_type": "code",
     "collapsed": false,
     "input": [
      "data = {\n",
      "    \"experiment\": \"current vs. voltage\",\n",
      "    \"run\": 47,\n",
      "    \"temperature\": 372.756,\n",
      "    \"currents\": [-1.0, -0.5, 0.0, 0.5, 1.0],\n",
      "    \"voltages\": [-2.0, -1.0, 0.0, 1.0, 2.0],\n",
      "}\n",
      "data"
     ],
     "language": "python",
     "metadata": {},
     "outputs": [
      {
       "metadata": {},
       "output_type": "pyout",
       "prompt_number": 52,
       "text": [
        "{'currents': [-1.0, -0.5, 0.0, 0.5, 1.0],\n",
        " 'experiment': 'current vs. voltage',\n",
        " 'run': 47,\n",
        " 'temperature': 372.756,\n",
        " 'voltages': [-2.0, -1.0, 0.0, 1.0, 2.0]}"
       ]
      }
     ],
     "prompt_number": 52
    },
    {
     "cell_type": "markdown",
     "metadata": {},
     "source": [
      "This model is clearly better because you no longer have to remember that\n",
      "the run number is in the second position of the list, \n",
      "you just refer directly to \"run\":"
     ]
    },
    {
     "cell_type": "code",
     "collapsed": false,
     "input": [
      "data[\"run\"]"
     ],
     "language": "python",
     "metadata": {},
     "outputs": [
      {
       "metadata": {},
       "output_type": "pyout",
       "prompt_number": 47,
       "text": [
        "47"
       ]
      }
     ],
     "prompt_number": 47
    },
    {
     "cell_type": "markdown",
     "metadata": {},
     "source": [
      "If you wanted the voltage data list:"
     ]
    },
    {
     "cell_type": "code",
     "collapsed": false,
     "input": [
      "data[\"voltages\"]"
     ],
     "language": "python",
     "metadata": {},
     "outputs": [
      {
       "metadata": {},
       "output_type": "pyout",
       "prompt_number": 54,
       "text": [
        "[-2.0, -1.0, 0.0, 1.0, 2.0]"
       ]
      }
     ],
     "prompt_number": 54
    },
    {
     "cell_type": "markdown",
     "metadata": {},
     "source": [
      "Or perhaps you wanted the last element of the current data list"
     ]
    },
    {
     "cell_type": "code",
     "collapsed": false,
     "input": [
      "data[\"currents\"][-1]"
     ],
     "language": "python",
     "metadata": {},
     "outputs": [
      {
       "metadata": {},
       "output_type": "pyout",
       "prompt_number": 53,
       "text": [
        "1.0"
       ]
      }
     ],
     "prompt_number": 53
    },
    {
     "cell_type": "markdown",
     "metadata": {},
     "source": [
      "Once a dictionary has been created, \n",
      "you can change the values of the data if you like."
     ]
    },
    {
     "cell_type": "code",
     "collapsed": false,
     "input": [
      "data[\"temperature\"] = 3275.39\n",
      "data"
     ],
     "language": "python",
     "metadata": {},
     "outputs": [
      {
       "metadata": {},
       "output_type": "pyout",
       "prompt_number": 55,
       "text": [
        "{'currents': [-1.0, -0.5, 0.0, 0.5, 1.0],\n",
        " 'experiment': 'current vs. voltage',\n",
        " 'run': 47,\n",
        " 'temperature': 3275.39,\n",
        " 'voltages': [-2.0, -1.0, 0.0, 1.0, 2.0]}"
       ]
      }
     ],
     "prompt_number": 55
    },
    {
     "cell_type": "markdown",
     "metadata": {},
     "source": [
      "You can also add new keys to the dictionary."
     ]
    },
    {
     "cell_type": "code",
     "collapsed": false,
     "input": [
      "data[\"user\"] = \"Johann G. von Ulm\"\n",
      "data"
     ],
     "language": "python",
     "metadata": {},
     "outputs": [
      {
       "metadata": {},
       "output_type": "pyout",
       "prompt_number": 56,
       "text": [
        "{'currents': [-1.0, -0.5, 0.0, 0.5, 1.0],\n",
        " 'experiment': 'current vs. voltage',\n",
        " 'run': 47,\n",
        " 'temperature': 3275.39,\n",
        " 'user': 'Johann G. von Ulm',\n",
        " 'voltages': [-2.0, -1.0, 0.0, 1.0, 2.0]}"
       ]
      }
     ],
     "prompt_number": 56
    },
    {
     "cell_type": "markdown",
     "metadata": {},
     "source": [
      "Dictionaries, \n",
      "like strings, \n",
      "lists, \n",
      "and all the rest, \n",
      "have built-in methods.\n",
      "Let's say you wanted all the keys from a particular dictionary:"
     ]
    },
    {
     "cell_type": "code",
     "collapsed": false,
     "input": [
      "data.keys()"
     ],
     "language": "python",
     "metadata": {},
     "outputs": [
      {
       "metadata": {},
       "output_type": "pyout",
       "prompt_number": 57,
       "text": [
        "['run', 'temperature', 'voltages', 'experiment', 'user', 'currents']"
       ]
      }
     ],
     "prompt_number": 57
    },
    {
     "cell_type": "markdown",
     "metadata": {},
     "source": [
      "or the values:"
     ]
    },
    {
     "cell_type": "code",
     "collapsed": false,
     "input": [
      "data.values()"
     ],
     "language": "python",
     "metadata": {},
     "outputs": [
      {
       "metadata": {},
       "output_type": "pyout",
       "prompt_number": 58,
       "text": [
        "[47,\n",
        " 3275.39,\n",
        " [-2.0, -1.0, 0.0, 1.0, 2.0],\n",
        " 'current vs. voltage',\n",
        " 'Johann G. von Ulm',\n",
        " [-1.0, -0.5, 0.0, 0.5, 1.0]]"
       ]
      }
     ],
     "prompt_number": 58
    },
    {
     "cell_type": "markdown",
     "metadata": {},
     "source": [
      "**Exercise:**\n",
      "Find a `dict` method that returns keys and values together,\n",
      "as a list of tuples."
     ]
    },
    {
     "cell_type": "code",
     "collapsed": false,
     "input": [],
     "language": "python",
     "metadata": {},
     "outputs": [],
     "prompt_number": 59
    },
    {
     "cell_type": "markdown",
     "metadata": {},
     "source": [
      "The value part of a dictionary can be any kind of data, \n",
      "even another dictionary, \n",
      "or some complex nested structure. \n",
      "The same is true about a list: \n",
      "they can contain complex data types.\n",
      "\n",
      "Since tuples are immutable, \n",
      "they can be used as keys for dictionaries.\n",
      "Lists are mutable, \n",
      "and therefore cannot.\n",
      "\n",
      "When you create software in Python, \n",
      "most data will end up looking either like a list or a dictionary. \n",
      "These two data types are very important in Python and you'll end up using them all the time."
     ]
    },
    {
     "cell_type": "markdown",
     "metadata": {},
     "source": [
      "##Key Points\n",
      "- A `list` is an ordered, indexable, mutable collection of data\n",
      "- A `list` uses zero-based indexing, and negative indices count from the end\n",
      "- Slices are sections of lists obtained using `[n:m]` notation\n",
      "- If a slice extends to either end of a `list` the appropriate index can be dropped\n",
      "- A `tuple` is an ordered, indexable, immutable collection of data\n",
      "- A `set` is an unordered, mutable collection of unique items that is very much like a mathematical set\n",
      "- A `dict` is an unordered, mutable collection of key-value pairs that can be indexed by its keys\n",
      "- The keys of a `dict` must be immutable objects\n",
      "- Lists, tuples, sets, and dictionaries can all contain heterogenous data and those data may be other compound data types"
     ]
    }
   ],
   "metadata": {}
  }
 ]
}