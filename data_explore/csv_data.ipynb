{
 "metadata": {
  "name": ""
 },
 "nbformat": 3,
 "nbformat_minor": 0,
 "worksheets": [
  {
   "cells": [
    {
     "cell_type": "code",
     "collapsed": false,
     "input": [
      "import numpy as np"
     ],
     "language": "python",
     "metadata": {},
     "outputs": [],
     "prompt_number": 1
    },
    {
     "cell_type": "code",
     "collapsed": false,
     "input": [
      "!head -20 eng-hourly-08012013-08312013.csv"
     ],
     "language": "python",
     "metadata": {},
     "outputs": [
      {
       "output_type": "stream",
       "stream": "stdout",
       "text": [
        "\"Station Name\",\"VANCOUVER INTL A\"\r\n",
        "\"Province\",\"BRITISH COLUMBIA\"\r\n",
        "\"Latitude\",\"49.19\"\r\n",
        "\"Longitude\",\"-123.18\"\r\n",
        "\"Elevation\",\"4.30\"\r\n",
        "\"Climate Identifier\",\"1108395\"\r\n",
        "\"WMO Identifier\",\"71892\"\r\n",
        "\"TC Identifier\",\"YVR\"\r\n",
        "\"All times are specified in Local Standard Time (LST). Add 1 hour to adjust for Daylight Saving Time where and when it is observed.\"\r\n",
        "\r\n",
        "\"Legend\"\r\n",
        "\"M\",\"Missing\"\r\n",
        "\"E\",\"Estimated\"\r\n",
        "\"NA\",\"Not Available\"\r\n",
        "\"**\",\"Partner data that is not subject to review by the National Climate Archives\"\r\n",
        "\r\n",
        "\"Date/Time\",\"Year\",\"Month\",\"Day\",\"Time\",\"Data Quality\",\"Temp (\ufffdC)\",\"Temp Flag\",\"Dew Point Temp (\ufffdC)\",\"Dew Point Temp Flag\",\"Rel Hum (%)\",\"Rel Hum Flag\",\"Wind Dir (10s deg)\",\"Wind Dir Flag\",\"Wind Spd (km/h)\",\"Wind Spd Flag\",\"Visibility (km)\",\"Visibility Flag\",\"Stn Press (kPa)\",\"Stn Press Flag\",\"Hmdx\",\"Hmdx Flag\",\"Wind Chill\",\"Wind Chill Flag\",\"Weather\"\r\n",
        "\"2013-08-01 00:00\",\"2013\",\"08\",\"01\",\"00:00\",\"**\",\"18.7\",\"\",\"14.6\",\"\",\"77\",\"\",\"13\",\"\",\"3\",\"\",\"32.2\",\"\",\"101.60\",\"\",\"\",\"\",\"\",\"\",\"Rain\"\r\n",
        "\"2013-08-01 01:00\",\"2013\",\"08\",\"01\",\"01:00\",\"**\",\"18.4\",\"\",\"15.1\",\"\",\"81\",\"\",\"1\",\"\",\"5\",\"\",\"32.2\",\"\",\"101.57\",\"\",\"\",\"\",\"\",\"\",\"Cloudy\"\r\n",
        "\"2013-08-01 02:00\",\"2013\",\"08\",\"01\",\"02:00\",\"**\",\"17.8\",\"\",\"16.0\",\"\",\"89\",\"\",\"18\",\"\",\"9\",\"\",\"24.1\",\"\",\"101.57\",\"\",\"\",\"\",\"\",\"\",\"Rain\"\r\n"
       ]
      }
     ],
     "prompt_number": 6
    },
    {
     "cell_type": "code",
     "collapsed": false,
     "input": [
      "!tail eng-daily-01011974-12311974.csv"
     ],
     "language": "python",
     "metadata": {},
     "outputs": [
      {
       "output_type": "stream",
       "stream": "stdout",
       "text": [
        "\"1974-12-22\",\"1974\",\"12\",\"22\",\"\",\"\",\"\",\"\",\"\",\"\",\"\",\"\",\"\",\"\",\"\",\"0.0\",\"\",\".0\",\"\",\"0.0\",\"\",\"\",\"\",\"\",\"\",\"\",\"\"\r\n",
        "\"1974-12-23\",\"1974\",\"12\",\"23\",\"\",\"\",\"\",\"\",\"\",\"\",\"\",\"\",\"\",\"\",\"\",\"0.3\",\"\",\".0\",\"\",\"0.3\",\"\",\"\",\"\",\"\",\"\",\"\",\"\"\r\n",
        "\"1974-12-24\",\"1974\",\"12\",\"24\",\"\",\"\",\"\",\"\",\"\",\"\",\"\",\"\",\"\",\"\",\"\",\"7.9\",\"\",\".0\",\"\",\"7.9\",\"\",\"\",\"\",\"\",\"\",\"\",\"\"\r\n",
        "\"1974-12-25\",\"1974\",\"12\",\"25\",\"\",\"\",\"\",\"\",\"\",\"\",\"\",\"\",\"\",\"\",\"\",\"5.6\",\"\",\".0\",\"\",\"5.6\",\"\",\"\",\"\",\"\",\"\",\"\",\"\"\r\n",
        "\"1974-12-26\",\"1974\",\"12\",\"26\",\"\",\"\",\"\",\"\",\"\",\"\",\"\",\"\",\"\",\"\",\"\",\"2.8\",\"\",\".0\",\"\",\"2.8\",\"\",\"\",\"\",\"\",\"\",\"\",\"\"\r\n",
        "\"1974-12-27\",\"1974\",\"12\",\"27\",\"\",\"\",\"\",\"\",\"\",\"\",\"\",\"\",\"\",\"\",\"\",\"0.0\",\"\",\".0\",\"\",\"0.0\",\"\",\"\",\"\",\"\",\"\",\"\",\"\"\r\n",
        "\"1974-12-28\",\"1974\",\"12\",\"28\",\"\",\"\",\"\",\"\",\"\",\"\",\"\",\"\",\"\",\"\",\"\",\"4.8\",\"\",\".0\",\"\",\"4.8\",\"\",\"\",\"\",\"\",\"\",\"\",\"\"\r\n",
        "\"1974-12-29\",\"1974\",\"12\",\"29\",\"\",\"\",\"\",\"\",\"\",\"\",\"\",\"\",\"\",\"\",\"\",\"11.7\",\"\",\".0\",\"\",\"11.7\",\"\",\"\",\"\",\"\",\"\",\"\",\"\"\r\n",
        "\"1974-12-30\",\"1974\",\"12\",\"30\",\"\",\"\",\"\",\"\",\"\",\"\",\"\",\"\",\"\",\"\",\"\",\"0.0\",\"\",\".0\",\"\",\"0.0\",\"\",\"\",\"\",\"\",\"\",\"\",\"\"\r\n",
        "\"1974-12-31\",\"1974\",\"12\",\"31\",\"\",\"\",\"\",\"\",\"\",\"\",\"\",\"\",\"\",\"\",\"\",\"14.0\",\"\",\".0\",\"\",\"14.0\",\"\",\"\",\"\",\"\",\"\",\"\",\"\"\r\n"
       ]
      }
     ],
     "prompt_number": 4
    },
    {
     "cell_type": "code",
     "collapsed": false,
     "input": [
      "data = np.genfromtxt('eng-hourly-08012013-08312013.csv', delimiter=',', skiprows=16)"
     ],
     "language": "python",
     "metadata": {},
     "outputs": [
      {
       "ename": "ValueError",
       "evalue": "Some errors were detected !\n    Line #268 (got 26 columns instead of 25)\n    Line #696 (got 26 columns instead of 25)\n    Line #697 (got 26 columns instead of 25)\n    Line #701 (got 26 columns instead of 25)\n    Line #713 (got 26 columns instead of 25)",
       "output_type": "pyerr",
       "traceback": [
        "\u001b[0;31m---------------------------------------------------------------------------\u001b[0m\n\u001b[0;31mValueError\u001b[0m                                Traceback (most recent call last)",
        "\u001b[0;32m<ipython-input-7-69cc5449cff6>\u001b[0m in \u001b[0;36m<module>\u001b[0;34m()\u001b[0m\n\u001b[0;32m----> 1\u001b[0;31m \u001b[0mdata\u001b[0m \u001b[0;34m=\u001b[0m \u001b[0mnp\u001b[0m\u001b[0;34m.\u001b[0m\u001b[0mgenfromtxt\u001b[0m\u001b[0;34m(\u001b[0m\u001b[0;34m'eng-hourly-08012013-08312013.csv'\u001b[0m\u001b[0;34m,\u001b[0m \u001b[0mdelimiter\u001b[0m\u001b[0;34m=\u001b[0m\u001b[0;34m','\u001b[0m\u001b[0;34m,\u001b[0m \u001b[0mskiprows\u001b[0m\u001b[0;34m=\u001b[0m\u001b[0;36m16\u001b[0m\u001b[0;34m)\u001b[0m\u001b[0;34m\u001b[0m\u001b[0m\n\u001b[0m",
        "\u001b[0;32m/Users/doug/anaconda/python.app/Contents/lib/python2.7/site-packages/numpy/lib/npyio.pyc\u001b[0m in \u001b[0;36mgenfromtxt\u001b[0;34m(fname, dtype, comments, delimiter, skiprows, skip_header, skip_footer, converters, missing, missing_values, filling_values, usecols, names, excludelist, deletechars, replace_space, autostrip, case_sensitive, defaultfmt, unpack, usemask, loose, invalid_raise)\u001b[0m\n\u001b[1;32m   1636\u001b[0m             \u001b[0;31m# Raise an exception ?\u001b[0m\u001b[0;34m\u001b[0m\u001b[0;34m\u001b[0m\u001b[0m\n\u001b[1;32m   1637\u001b[0m             \u001b[0;32mif\u001b[0m \u001b[0minvalid_raise\u001b[0m\u001b[0;34m:\u001b[0m\u001b[0;34m\u001b[0m\u001b[0m\n\u001b[0;32m-> 1638\u001b[0;31m                 \u001b[0;32mraise\u001b[0m \u001b[0mValueError\u001b[0m\u001b[0;34m(\u001b[0m\u001b[0merrmsg\u001b[0m\u001b[0;34m)\u001b[0m\u001b[0;34m\u001b[0m\u001b[0m\n\u001b[0m\u001b[1;32m   1639\u001b[0m             \u001b[0;31m# Issue a warning ?\u001b[0m\u001b[0;34m\u001b[0m\u001b[0;34m\u001b[0m\u001b[0m\n\u001b[1;32m   1640\u001b[0m             \u001b[0;32melse\u001b[0m\u001b[0;34m:\u001b[0m\u001b[0;34m\u001b[0m\u001b[0m\n",
        "\u001b[0;31mValueError\u001b[0m: Some errors were detected !\n    Line #268 (got 26 columns instead of 25)\n    Line #696 (got 26 columns instead of 25)\n    Line #697 (got 26 columns instead of 25)\n    Line #701 (got 26 columns instead of 25)\n    Line #713 (got 26 columns instead of 25)"
       ]
      }
     ],
     "prompt_number": 7
    },
    {
     "cell_type": "code",
     "collapsed": false,
     "input": [
      "!head -270 eng-hourly-08012013-08312013.csv | tail"
     ],
     "language": "python",
     "metadata": {},
     "outputs": [
      {
       "output_type": "stream",
       "stream": "stdout",
       "text": [
        "\"2013-08-11 03:00\",\"2013\",\"08\",\"11\",\"03:00\",\"**\",\"16.5\",\"\",\"10.2\",\"\",\"66\",\"\",\"12\",\"\",\"20\",\"\",\"24.1\",\"\",\"101.55\",\"\",\"\",\"\",\"\",\"\",\"NA\"\r\n",
        "\"2013-08-11 04:00\",\"2013\",\"08\",\"11\",\"04:00\",\"**\",\"16.1\",\"\",\"11.1\",\"\",\"72\",\"\",\"10\",\"\",\"17\",\"\",\"24.1\",\"\",\"101.59\",\"\",\"\",\"\",\"\",\"\",\"Mostly Cloudy\"\r\n",
        "\"2013-08-11 05:00\",\"2013\",\"08\",\"11\",\"05:00\",\"**\",\"16.1\",\"\",\"11.3\",\"\",\"73\",\"\",\"13\",\"\",\"10\",\"\",\"32.2\",\"\",\"101.57\",\"\",\"\",\"\",\"\",\"\",\"NA\"\r\n",
        "\"2013-08-11 06:00\",\"2013\",\"08\",\"11\",\"06:00\",\"**\",\"16.5\",\"\",\"11.3\",\"\",\"71\",\"\",\"12\",\"\",\"21\",\"\",\"32.2\",\"\",\"101.63\",\"\",\"\",\"\",\"\",\"\",\"NA\"\r\n",
        "\"2013-08-11 07:00\",\"2013\",\"08\",\"11\",\"07:00\",\"**\",\"16.5\",\"\",\"12.3\",\"\",\"76\",\"\",\"12\",\"\",\"17\",\"\",\"32.2\",\"\",\"101.62\",\"\",\"\",\"\",\"\",\"\",\"Mostly Cloudy\"\r\n",
        "\"2013-08-11 08:00\",\"2013\",\"08\",\"11\",\"08:00\",\"**\",\"16.3\",\"\",\"12.9\",\"\",\"80\",\"\",\"13\",\"\",\"24\",\"\",\"24.1\",\"\",\"101.72\",\"\",\"\",\"\",\"\",\"\",\"NA\"\r\n",
        "\"2013-08-11 09:00\",\"2013\",\"08\",\"11\",\"09:00\",\"**\",\"15.5\",\"\",\"12.7\",\"\",\"83\",\"\",\"12\",\"\",\"25\",\"\",\"24.1\",\"\",\"101.74\",\"\",\"\",\"\",\"\",\"\",\"Rain Showers\"\r\n",
        "\"2013-08-11 10:00\",\"2013\",\"08\",\"11\",\"10:00\",\"**\",\"14.9\",\"\",\"13.8\",\"\",\"93\",\"\",\"11\",\"\",\"18\",\"\",\"9.7\",\"\",\"101.75\",\"\",\"\",\"\",\"\",\"\",\"Thunderstorms,Rain Showers\"\r\n",
        "\"2013-08-11 11:00\",\"2013\",\"08\",\"11\",\"11:00\",\"**\",\"15.1\",\"\",\"13.5\",\"\",\"90\",\"\",\"12\",\"\",\"14\",\"\",\"19.3\",\"\",\"101.75\",\"\",\"\",\"\",\"\",\"\",\"NA\"\r\n",
        "\"2013-08-11 12:00\",\"2013\",\"08\",\"11\",\"12:00\",\"**\",\"17.0\",\"\",\"14.7\",\"\",\"86\",\"\",\"9\",\"\",\"10\",\"\",\"24.1\",\"\",\"101.75\",\"\",\"\",\"\",\"\",\"\",\"NA\"\r\n"
       ]
      }
     ],
     "prompt_number": 8
    },
    {
     "cell_type": "code",
     "collapsed": false,
     "input": [
      "data = np.genfromtxt('eng-hourly-08012013-08312013.csv', delimiter='\",\"', skiprows=16)"
     ],
     "language": "python",
     "metadata": {},
     "outputs": [],
     "prompt_number": 9
    },
    {
     "cell_type": "code",
     "collapsed": false,
     "input": [
      "data[-1]\n"
     ],
     "language": "python",
     "metadata": {},
     "outputs": [
      {
       "metadata": {},
       "output_type": "pyout",
       "prompt_number": 12,
       "text": [
        "array([     nan,  2013.  ,     8.  ,    31.  ,      nan,      nan,\n",
        "          15.5 ,      nan,    14.6 ,      nan,    94.  ,      nan,\n",
        "          34.  ,      nan,    10.  ,      nan,    32.2 ,      nan,\n",
        "         101.02,      nan,      nan,      nan,      nan,      nan,      nan])"
       ]
      }
     ],
     "prompt_number": 12
    },
    {
     "cell_type": "code",
     "collapsed": false,
     "input": [
      "!tail -1 eng-hourly-08012013-08312013.csv"
     ],
     "language": "python",
     "metadata": {},
     "outputs": [
      {
       "output_type": "stream",
       "stream": "stdout",
       "text": [
        "\"2013-08-31 23:00\",\"2013\",\"08\",\"31\",\"23:00\",\"**\",\"15.5\",\"\",\"14.6\",\"\",\"94\",\"\",\"34\",\"\",\"10\",\"\",\"32.2\",\"\",\"101.02\",\"\",\"\",\"\",\"\",\"\",\"NA\"\r\n"
       ]
      }
     ],
     "prompt_number": 11
    },
    {
     "cell_type": "code",
     "collapsed": false,
     "input": [
      "data.dtype"
     ],
     "language": "python",
     "metadata": {},
     "outputs": [
      {
       "metadata": {},
       "output_type": "pyout",
       "prompt_number": 13,
       "text": [
        "dtype('float64')"
       ]
      }
     ],
     "prompt_number": 13
    },
    {
     "cell_type": "code",
     "collapsed": false,
     "input": [
      "data = np.genfromtxt('eng-hourly-08012013-08312013.csv', delimiter='\",\"', skiprows=15, names=True)"
     ],
     "language": "python",
     "metadata": {},
     "outputs": [],
     "prompt_number": 14
    },
    {
     "cell_type": "code",
     "collapsed": false,
     "input": [
      "data.dtype"
     ],
     "language": "python",
     "metadata": {},
     "outputs": [
      {
       "metadata": {},
       "output_type": "pyout",
       "prompt_number": 15,
       "text": [
        "dtype([('DateTime', '<f8'), ('Year', '<f8'), ('Month', '<f8'), ('Day', '<f8'), ('Time', '<f8'), ('Data_Quality', '<f8'), ('Temp_\\xb0C', '<f8'), ('Temp_Flag', '<f8'), ('Dew_Point_Temp_\\xb0C', '<f8'), ('Dew_Point_Temp_Flag', '<f8'), ('Rel_Hum_', '<f8'), ('Rel_Hum_Flag', '<f8'), ('Wind_Dir_10s_deg', '<f8'), ('Wind_Dir_Flag', '<f8'), ('Wind_Spd_kmh', '<f8'), ('Wind_Spd_Flag', '<f8'), ('Visibility_km', '<f8'), ('Visibility_Flag', '<f8'), ('Stn_Press_kPa', '<f8'), ('Stn_Press_Flag', '<f8'), ('Hmdx', '<f8'), ('Hmdx_Flag', '<f8'), ('Wind_Chill', '<f8'), ('Wind_Chill_Flag', '<f8'), ('Weather', '<f8')])"
       ]
      }
     ],
     "prompt_number": 15
    },
    {
     "cell_type": "code",
     "collapsed": false,
     "input": [
      "data['Day']"
     ],
     "language": "python",
     "metadata": {},
     "outputs": [
      {
       "metadata": {},
       "output_type": "pyout",
       "prompt_number": 16,
       "text": [
        "array([  1.,   1.,   1.,   1.,   1.,   1.,   1.,   1.,   1.,   1.,   1.,\n",
        "         1.,   1.,   1.,   1.,   1.,   1.,   1.,   1.,   1.,   1.,   1.,\n",
        "         1.,   1.,   2.,   2.,   2.,   2.,   2.,   2.,   2.,   2.,   2.,\n",
        "         2.,   2.,   2.,   2.,   2.,   2.,   2.,   2.,   2.,   2.,   2.,\n",
        "         2.,   2.,   2.,   2.,   3.,   3.,   3.,   3.,   3.,   3.,   3.,\n",
        "         3.,   3.,   3.,   3.,   3.,   3.,   3.,   3.,   3.,   3.,   3.,\n",
        "         3.,   3.,   3.,   3.,   3.,   3.,   4.,   4.,   4.,   4.,   4.,\n",
        "         4.,   4.,   4.,   4.,   4.,   4.,   4.,   4.,   4.,   4.,   4.,\n",
        "         4.,   4.,   4.,   4.,   4.,   4.,   4.,   4.,   5.,   5.,   5.,\n",
        "         5.,   5.,   5.,   5.,   5.,   5.,   5.,   5.,   5.,   5.,   5.,\n",
        "         5.,   5.,   5.,   5.,   5.,   5.,   5.,   5.,   5.,   5.,   6.,\n",
        "         6.,   6.,   6.,   6.,   6.,   6.,   6.,   6.,   6.,   6.,   6.,\n",
        "         6.,   6.,   6.,   6.,   6.,   6.,   6.,   6.,   6.,   6.,   6.,\n",
        "         6.,   7.,   7.,   7.,   7.,   7.,   7.,   7.,   7.,   7.,   7.,\n",
        "         7.,   7.,   7.,   7.,   7.,   7.,   7.,   7.,   7.,   7.,   7.,\n",
        "         7.,   7.,   7.,   8.,   8.,   8.,   8.,   8.,   8.,   8.,   8.,\n",
        "         8.,   8.,   8.,   8.,   8.,   8.,   8.,   8.,   8.,   8.,   8.,\n",
        "         8.,   8.,   8.,   8.,   8.,   9.,   9.,   9.,   9.,   9.,   9.,\n",
        "         9.,   9.,   9.,   9.,   9.,   9.,   9.,   9.,   9.,   9.,   9.,\n",
        "         9.,   9.,   9.,   9.,   9.,   9.,   9.,  10.,  10.,  10.,  10.,\n",
        "        10.,  10.,  10.,  10.,  10.,  10.,  10.,  10.,  10.,  10.,  10.,\n",
        "        10.,  10.,  10.,  10.,  10.,  10.,  10.,  10.,  10.,  11.,  11.,\n",
        "        11.,  11.,  11.,  11.,  11.,  11.,  11.,  11.,  11.,  11.,  11.,\n",
        "        11.,  11.,  11.,  11.,  11.,  11.,  11.,  11.,  11.,  11.,  11.,\n",
        "        12.,  12.,  12.,  12.,  12.,  12.,  12.,  12.,  12.,  12.,  12.,\n",
        "        12.,  12.,  12.,  12.,  12.,  12.,  12.,  12.,  12.,  12.,  12.,\n",
        "        12.,  12.,  13.,  13.,  13.,  13.,  13.,  13.,  13.,  13.,  13.,\n",
        "        13.,  13.,  13.,  13.,  13.,  13.,  13.,  13.,  13.,  13.,  13.,\n",
        "        13.,  13.,  13.,  13.,  14.,  14.,  14.,  14.,  14.,  14.,  14.,\n",
        "        14.,  14.,  14.,  14.,  14.,  14.,  14.,  14.,  14.,  14.,  14.,\n",
        "        14.,  14.,  14.,  14.,  14.,  14.,  15.,  15.,  15.,  15.,  15.,\n",
        "        15.,  15.,  15.,  15.,  15.,  15.,  15.,  15.,  15.,  15.,  15.,\n",
        "        15.,  15.,  15.,  15.,  15.,  15.,  15.,  15.,  16.,  16.,  16.,\n",
        "        16.,  16.,  16.,  16.,  16.,  16.,  16.,  16.,  16.,  16.,  16.,\n",
        "        16.,  16.,  16.,  16.,  16.,  16.,  16.,  16.,  16.,  16.,  17.,\n",
        "        17.,  17.,  17.,  17.,  17.,  17.,  17.,  17.,  17.,  17.,  17.,\n",
        "        17.,  17.,  17.,  17.,  17.,  17.,  17.,  17.,  17.,  17.,  17.,\n",
        "        17.,  18.,  18.,  18.,  18.,  18.,  18.,  18.,  18.,  18.,  18.,\n",
        "        18.,  18.,  18.,  18.,  18.,  18.,  18.,  18.,  18.,  18.,  18.,\n",
        "        18.,  18.,  18.,  19.,  19.,  19.,  19.,  19.,  19.,  19.,  19.,\n",
        "        19.,  19.,  19.,  19.,  19.,  19.,  19.,  19.,  19.,  19.,  19.,\n",
        "        19.,  19.,  19.,  19.,  19.,  20.,  20.,  20.,  20.,  20.,  20.,\n",
        "        20.,  20.,  20.,  20.,  20.,  20.,  20.,  20.,  20.,  20.,  20.,\n",
        "        20.,  20.,  20.,  20.,  20.,  20.,  20.,  21.,  21.,  21.,  21.,\n",
        "        21.,  21.,  21.,  21.,  21.,  21.,  21.,  21.,  21.,  21.,  21.,\n",
        "        21.,  21.,  21.,  21.,  21.,  21.,  21.,  21.,  21.,  22.,  22.,\n",
        "        22.,  22.,  22.,  22.,  22.,  22.,  22.,  22.,  22.,  22.,  22.,\n",
        "        22.,  22.,  22.,  22.,  22.,  22.,  22.,  22.,  22.,  22.,  22.,\n",
        "        23.,  23.,  23.,  23.,  23.,  23.,  23.,  23.,  23.,  23.,  23.,\n",
        "        23.,  23.,  23.,  23.,  23.,  23.,  23.,  23.,  23.,  23.,  23.,\n",
        "        23.,  23.,  24.,  24.,  24.,  24.,  24.,  24.,  24.,  24.,  24.,\n",
        "        24.,  24.,  24.,  24.,  24.,  24.,  24.,  24.,  24.,  24.,  24.,\n",
        "        24.,  24.,  24.,  24.,  25.,  25.,  25.,  25.,  25.,  25.,  25.,\n",
        "        25.,  25.,  25.,  25.,  25.,  25.,  25.,  25.,  25.,  25.,  25.,\n",
        "        25.,  25.,  25.,  25.,  25.,  25.,  26.,  26.,  26.,  26.,  26.,\n",
        "        26.,  26.,  26.,  26.,  26.,  26.,  26.,  26.,  26.,  26.,  26.,\n",
        "        26.,  26.,  26.,  26.,  26.,  26.,  26.,  26.,  27.,  27.,  27.,\n",
        "        27.,  27.,  27.,  27.,  27.,  27.,  27.,  27.,  27.,  27.,  27.,\n",
        "        27.,  27.,  27.,  27.,  27.,  27.,  27.,  27.,  27.,  27.,  28.,\n",
        "        28.,  28.,  28.,  28.,  28.,  28.,  28.,  28.,  28.,  28.,  28.,\n",
        "        28.,  28.,  28.,  28.,  28.,  28.,  28.,  28.,  28.,  28.,  28.,\n",
        "        28.,  29.,  29.,  29.,  29.,  29.,  29.,  29.,  29.,  29.,  29.,\n",
        "        29.,  29.,  29.,  29.,  29.,  29.,  29.,  29.,  29.,  29.,  29.,\n",
        "        29.,  29.,  29.,  30.,  30.,  30.,  30.,  30.,  30.,  30.,  30.,\n",
        "        30.,  30.,  30.,  30.,  30.,  30.,  30.,  30.,  30.,  30.,  30.,\n",
        "        30.,  30.,  30.,  30.,  30.,  31.,  31.,  31.,  31.,  31.,  31.,\n",
        "        31.,  31.,  31.,  31.,  31.,  31.,  31.,  31.,  31.,  31.,  31.,\n",
        "        31.,  31.,  31.,  31.,  31.,  31.,  31.])"
       ]
      }
     ],
     "prompt_number": 16
    },
    {
     "cell_type": "code",
     "collapsed": false,
     "input": [
      "def fix_dtype(dtype):\n",
      "    \"\"\"Create a corrected dtype sequence from and auto-generated one.\"\n",
      "    \"\"\"\n",
      "    new_dtype = []\n",
      "    for name, cdtype in dtype.descr:\n",
      "        int_cols = ('Year', 'Month', 'Day')\n",
      "        if name in int_cols:\n",
      "            cdtype = np.int\n",
      "        new_dtype.append((name, cdtype))\n",
      "    return new_dtype\n",
      "\n",
      "def read_climate_file(filename):\n",
      "    \"\"\"Read an Environment Canada climate data CSV file and return its data.\n",
      "    \"\"\"\n",
      "    data = np.genfromtxt(filename, delimiter='\",\"', skiprows=15, names=True)\n",
      "    new_dtype = fix_dtype(data.dtype)\n",
      "    data = np.genfromtxt(filename, delimiter='\",\"', skiprows=16, dtype=new_dtype)\n",
      "    return data\n",
      "\n",
      "!tail -1 eng-hourly-08012013-08312013.csv\n",
      "print\n",
      "data = read_climate_file('eng-hourly-08012013-08312013.csv')\n",
      "print data[0]\n",
      "print data[-1]\n",
      "print\n",
      "for x in data.dtype.descr:\n",
      "    print x"
     ],
     "language": "python",
     "metadata": {},
     "outputs": [
      {
       "output_type": "stream",
       "stream": "stdout",
       "text": [
        "\"2013-08-31 23:00\",\"2013\",\"08\",\"31\",\"23:00\",\"**\",\"15.5\",\"\",\"14.6\",\"\",\"94\",\"\",\"34\",\"\",\"10\",\"\",\"32.2\",\"\",\"101.02\",\"\",\"\",\"\",\"\",\"\",\"NA\"\r\n"
       ]
      },
      {
       "output_type": "stream",
       "stream": "stdout",
       "text": [
        "\n",
        "(nan, -1, -1, -1, nan, nan, nan, nan, nan, nan, nan, nan, nan, nan, nan, nan, nan, nan, nan, nan, nan, nan, nan, nan, nan)"
       ]
      },
      {
       "output_type": "stream",
       "stream": "stdout",
       "text": [
        "\n",
        "(nan, 2013, 8, 31, nan, nan, 15.5, nan, 14.6, nan, 94.0, nan, 34.0, nan, 10.0, nan, 32.2, nan, 101.02, nan, nan, nan, nan, nan, nan)\n",
        "\n",
        "('DateTime', '<f8')\n",
        "('Year', '<i8')\n",
        "('Month', '<i8')\n",
        "('Day', '<i8')\n",
        "('Time', '<f8')\n",
        "('Data_Quality', '<f8')\n",
        "('Temp_\\xb0C', '<f8')\n",
        "('Temp_Flag', '<f8')\n",
        "('Dew_Point_Temp_\\xb0C', '<f8')\n",
        "('Dew_Point_Temp_Flag', '<f8')\n",
        "('Rel_Hum_', '<f8')\n",
        "('Rel_Hum_Flag', '<f8')\n",
        "('Wind_Dir_10s_deg', '<f8')\n",
        "('Wind_Dir_Flag', '<f8')\n",
        "('Wind_Spd_kmh', '<f8')\n",
        "('Wind_Spd_Flag', '<f8')\n",
        "('Visibility_km', '<f8')\n",
        "('Visibility_Flag', '<f8')\n",
        "('Stn_Press_kPa', '<f8')\n",
        "('Stn_Press_Flag', '<f8')\n",
        "('Hmdx', '<f8')\n",
        "('Hmdx_Flag', '<f8')\n",
        "('Wind_Chill', '<f8')\n",
        "('Wind_Chill_Flag', '<f8')\n",
        "('Weather', '<f8')\n"
       ]
      }
     ],
     "prompt_number": 20
    },
    {
     "cell_type": "code",
     "collapsed": false,
     "input": [],
     "language": "python",
     "metadata": {},
     "outputs": []
    }
   ],
   "metadata": {}
  }
 ]
}